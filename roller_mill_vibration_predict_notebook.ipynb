{
  "cells": [
    {
      "cell_type": "markdown",
      "metadata": {
        "id": "hswFTF_ro-t-"
      },
      "source": [
        "# TO-DO\n",
        "- Melhorar performance do modelo"
      ]
    },
    {
      "cell_type": "markdown",
      "metadata": {
        "id": "Ij_CG8MGZV9h"
      },
      "source": [
        "# Importar bibliotecas necessárias"
      ]
    },
    {
      "cell_type": "code",
      "execution_count": 1,
      "metadata": {
        "colab": {
          "base_uri": "https://localhost:8080/"
        },
        "id": "RWVcP-nvT_KG",
        "outputId": "5d042160-615e-485d-ac5e-766b032702b2"
      },
      "outputs": [],
      "source": [
        "import pandas as pd\n",
        "import numpy as np\n",
        "import math\n",
        "from scipy.stats import zscore\n",
        "\n",
        "import glob\n",
        "import os\n",
        "import io\n",
        "import csv\n",
        "\n",
        "import matplotlib.pyplot as plt\n",
        "import matplotlib.dates as mdates\n",
        "import seaborn as sns\n",
        "import plotly.express as px\n",
        "import plotly.graph_objects as go\n",
        "\n",
        "from sklearn.impute import SimpleImputer\n",
        "from sklearn.pipeline import Pipeline\n",
        "from sklearn.linear_model import LinearRegression\n",
        "from sklearn.model_selection import GridSearchCV, cross_val_score\n",
        "from sklearn.linear_model import Ridge\n",
        "from sklearn.pipeline import make_pipeline\n",
        "from sklearn.preprocessing import StandardScaler, PolynomialFeatures\n",
        "from sklearn.metrics import mean_squared_error, mean_absolute_error, mean_absolute_percentage_error\n",
        "from sklearn.model_selection import train_test_split, GridSearchCV, TimeSeriesSplit\n",
        "from sklearn.linear_model import ElasticNet\n",
        "\n",
        "from sklearn.model_selection import TimeSeriesSplit, GridSearchCV\n",
        "from sklearn.linear_model import Ridge\n",
        "from sklearn.metrics import (mean_absolute_error,\n",
        "                            mean_squared_error,\n",
        "                            r2_score)\n",
        "from sklearn.inspection import permutation_importance\n",
        "from sklearn.pipeline import make_pipeline\n",
        "\n",
        "import os\n",
        "# from google.colab import drive\n",
        "# drive.mount('/content/gdrive')\n",
        "\n",
        "# from google.colab import auth\n",
        "# auth.authenticate_user()\n",
        "\n",
        "# import gspread\n",
        "# from google.auth import default\n",
        "# creds, _ = default()\n",
        "\n",
        "# gc = gspread.authorize(creds)"
      ]
    },
    {
      "cell_type": "markdown",
      "metadata": {
        "id": "UU_J0YO3ZYJb"
      },
      "source": [
        "# Ler todos os arquivos particionados e condensá-los em apenas um"
      ]
    },
    {
      "cell_type": "code",
      "execution_count": 2,
      "metadata": {
        "colab": {
          "base_uri": "https://localhost:8080/",
          "height": 776
        },
        "id": "h-i7G_dn2zDr",
        "outputId": "fb0dddb6-c6c8-44f6-e1e7-19f43690ec2b"
      },
      "outputs": [],
      "source": [
        "def load_and_merge(folder_path, info=True):\n",
        "    # Encontrar todos os arquivos .csv no diretório especificado\n",
        "    csv_files = glob.glob(os.path.join(folder_path, '*.csv'))\n",
        "\n",
        "    data_frames = []\n",
        "\n",
        "    for file in csv_files:\n",
        "        try:\n",
        "            df = pd.read_csv(file, delimiter=',', on_bad_lines='skip')\n",
        "            data_frames.append(df)\n",
        "        except pd.errors.ParserError as e:\n",
        "            print(f\"Error parsing {file}: {e}\")\n",
        "\n",
        "    # Verificar se há data frames válidos para concatenar\n",
        "    if data_frames:\n",
        "        merged_df = pd.concat(data_frames, ignore_index=True)\n",
        "    else:\n",
        "        print(\"No valid data frames to concatenate.\")\n",
        "        return None\n",
        "\n",
        "    if info and merged_df is not None:\n",
        "        if len(merged_df) > 0:\n",
        "            print(\"# Data imported!\")\n",
        "            print(\"# ------------------------------------\\n\")\n",
        "\n",
        "            print(\"# DIMENSIONS -------------------------\")\n",
        "            print(\"Observation:\", merged_df.shape[0], \"Column:\", merged_df.shape[1], \"\\n\")\n",
        "\n",
        "            print(\"# DTYPES -----------------------------\")\n",
        "            if len(merged_df.select_dtypes(\"object\").columns) > 0:\n",
        "                print(\"Object Variables:\\n# of Variables:\",\n",
        "                      len(merged_df.select_dtypes(\"object\").columns), \"\\n\",\n",
        "                      merged_df.select_dtypes(\"object\").columns.tolist(), \"\\n\")\n",
        "\n",
        "            if len(merged_df.select_dtypes(\"integer\").columns) > 0:\n",
        "                print(\"Integer Variables:\\n# of Variables:\",\n",
        "                      len(merged_df.select_dtypes(\"integer\").columns), \"\\n\",\n",
        "                      merged_df.select_dtypes(\"integer\").columns.tolist(), \"\\n\")\n",
        "\n",
        "            if len(merged_df.select_dtypes(\"float\").columns) > 0:\n",
        "                print(\"Float Variables:\\n# of Variables:\",\n",
        "                      len(merged_df.select_dtypes(\"float\").columns), \"\\n\",\n",
        "                      merged_df.select_dtypes(\"float\").columns.tolist(), \"\\n\")\n",
        "\n",
        "            if len(merged_df.select_dtypes(\"bool\").columns) > 0:\n",
        "                print(\"Bool Variables:\\n# of Variables:\",\n",
        "                      len(merged_df.select_dtypes(\"bool\").columns), \"\\n\",\n",
        "                      merged_df.select_dtypes(\"bool\").columns.tolist(), \"\\n\")\n",
        "\n",
        "            print(\"# MISSING VALUE ---------------------\")\n",
        "            print(\"Are there any missing values?\\n\",\n",
        "                  \"No missing value!\" if not merged_df.isnull().values.any() else \"Data includes missing value!\", \"\\n\")\n",
        "\n",
        "            buf = io.StringIO()\n",
        "            merged_df.info(buf=buf)\n",
        "            info_memory = buf.getvalue().split('\\n')[-2].split(\":\")[1].strip()\n",
        "            print(\"# MEMORY USAGE ---------------------- \\n\", info_memory)\n",
        "\n",
        "        else:\n",
        "            print(\"# Data did not import!\")\n",
        "\n",
        "    return merged_df"
      ]
    },
    {
      "cell_type": "code",
      "execution_count": 3,
      "metadata": {},
      "outputs": [
        {
          "name": "stdout",
          "output_type": "stream",
          "text": [
            "# Data imported!\n",
            "# ------------------------------------\n",
            "\n",
            "# DIMENSIONS -------------------------\n",
            "Observation: 236160 Column: 91 \n",
            "\n",
            "# DTYPES -----------------------------\n",
            "Object Variables:\n",
            "# of Variables: 1 \n",
            " ['Timestamps'] \n",
            "\n",
            "Integer Variables:\n",
            "# of Variables: 14 \n",
            " ['CM2_PV_PRODUCT', 'CM2_PV_FN01_POWER', 'CM2_PV_VRM01_POWER', 'CM2_LB_BLAINE_CPIIF', 'CM2_ST_CLA01_SPEED', 'CM2_ST_DA01_POSITION', 'CM2_ST_WI01_WATER_INJECTION', 'CM2_ST_VRM01_PRESS_GRIDING_1_3', 'CM2_ST_RB01_TOTAL_FEED', 'CM2_ST_GAS01_ADDITIVE_INJECTION', 'CM2_ST_DA02_SPA_PRESS', 'CM2_ST_IA_ENABLE', 'CM2_ST_IA_READY', 'CM2_ST_IA_USE'] \n",
            "\n",
            "Float Variables:\n",
            "# of Variables: 76 \n",
            " ['CM2_PV_BE01_CURRENT', 'CM2_PV_BE02_POWER', 'CM2_PV_BF01_OUT_TEMPERATURE', 'CM2_PV_BF01_PRESSURE', 'CM2_PV_BF01_DIF_PRESSURE', 'CM2_PV_BF01_DIF_PRESSURE1', 'CM2_FLOW_RATE_COAL', 'CM2_PV_CLA01_POWER', 'CM2_PV_CLA01_SPEED', 'CM2_SP_CLA01_SPEED', 'CM2_PV_DA01_POSITION', 'CM2_SP_DA01_POSITION', 'CM2_PV_DA02_POSITION', 'CM2_SP_PRESS_MODE', 'CM2_SP_PRESS_AUTO', 'CM2_SP_PRESS_MANUAL', 'CM2_SP_GA01_SPM', 'CM2_PV_HG01_TEMPERATURE', 'CM2_PV_HG01_TEMPERATURE1', 'CM2_PV_HG01_TEMPERATURE2', 'CM2_PV_HYS01_PRESSURE', 'CM2_PV_HYS01_PRESSURE1', 'CM2_SP_RB01_MILL_TOTAL_FEED', 'CM2_SP_RB01_MODE_TOTAL_FEED', 'CM2_SP_RB01_SPA_TOTAL_FEED', 'CM2_SP_RB01_TOTAL_FEED', 'CM2_PV_RB01_TOTAL_FEED', 'CM2_PV_RF01_CURRENT', 'CM2_SP_VRM01_TEMP_MODE', 'CM2_SP_VRM01_TEMP_AUTO', 'CM2_SP_VRM01_TEMP_MANUAL', 'CM2_SP_VRM01_PRESS_GRIDING_1_3', 'CM2_SP_VRM01_PRESS_GRIDING_2_4', 'CM2_PV_VRM01_INLET_TEMPERATURE', 'CM2_PV_VRM01_OUTLET_TEMPERATURE', 'CM2_PV_VRM01_IN_PRESS', 'CM2_PV_VRM01_VIBRATION', 'CM2_PV_VRM01_OUT_ PRESS', 'CM2_PV_VRM01_DIFF_PRESSURE', 'CM2_PV_VRM01_POSITION1', 'CM2_PV_VRM01_POSITION2', 'CM2_PV_VRM01_POSITION3', 'CM2_PV_VRM01_POSITION4', 'CM2_PV_VRM01_VIBRATION1', 'CM2_SP_WI01_WATER_INJECTION', 'CM2_PV_WI01_WATER_INJECTION', 'CM2_AGREGADO_0', 'CM2_AGREGADO_1', 'CM2_AGREGADO_2', 'CM2_CALCARIO', 'CM2_CLINQUER', 'CM2_CLINQUERBW', 'CM2_ESCORIA', 'CM2_ESCORIA_DRY_PIT', 'CM2_GESSO', 'CM2_MIX', 'CM2_POZOLANA', 'CM2_LB_FINENESS_CPIIF', 'CM2_LB_FINENESS_CPIII', 'CM2_LB_FINENESS_CPVARI', 'CM2_LB_BLAINE_CPIII', 'CM2_LB_BLAINE_CPVARI', 'CM2_PV_FLOW_CALCARIO', 'CM2_PV_FLOW_CLINQUER', 'CM2_PV_FLOW_ESCORIA', 'CM2_PV_FLOW_GESSO', 'CM2_PV_FLOW_MIX', 'CM2_PV_FLOW_POZOLANA', 'CM2_IA_CLA01_SP_SPEED', 'CM2_IA_DA01_SP_POSITION', 'CM2_IA_DA02_SPA_PRESS', 'CM2_IA_GAS01_SP_FLOW_AID', 'CM2_IA_RB01_SP_TOTAL_FEED', 'CM2_IA_VRM01_SP_PRESS_GRIDING', 'CM2_IA_WI01_SP_WATER_INJECTION', 'CM2_IA_SC01_SPA_TEMP_OUT'] \n",
            "\n",
            "# MISSING VALUE ---------------------\n",
            "Are there any missing values?\n",
            " No missing value! \n",
            "\n",
            "# MEMORY USAGE ---------------------- \n",
            " 164.0+ MB\n"
          ]
        },
        {
          "data": {
            "text/html": [
              "<div>\n",
              "<style scoped>\n",
              "    .dataframe tbody tr th:only-of-type {\n",
              "        vertical-align: middle;\n",
              "    }\n",
              "\n",
              "    .dataframe tbody tr th {\n",
              "        vertical-align: top;\n",
              "    }\n",
              "\n",
              "    .dataframe thead th {\n",
              "        text-align: right;\n",
              "    }\n",
              "</style>\n",
              "<table border=\"1\" class=\"dataframe\">\n",
              "  <thead>\n",
              "    <tr style=\"text-align: right;\">\n",
              "      <th></th>\n",
              "      <th>Timestamps</th>\n",
              "      <th>CM2_PV_PRODUCT</th>\n",
              "      <th>CM2_PV_BE01_CURRENT</th>\n",
              "      <th>CM2_PV_BE02_POWER</th>\n",
              "      <th>CM2_PV_BF01_OUT_TEMPERATURE</th>\n",
              "      <th>CM2_PV_BF01_PRESSURE</th>\n",
              "      <th>CM2_PV_BF01_DIF_PRESSURE</th>\n",
              "      <th>CM2_PV_BF01_DIF_PRESSURE1</th>\n",
              "      <th>CM2_FLOW_RATE_COAL</th>\n",
              "      <th>CM2_PV_CLA01_POWER</th>\n",
              "      <th>...</th>\n",
              "      <th>CM2_ST_IA_READY</th>\n",
              "      <th>CM2_ST_IA_USE</th>\n",
              "      <th>CM2_IA_CLA01_SP_SPEED</th>\n",
              "      <th>CM2_IA_DA01_SP_POSITION</th>\n",
              "      <th>CM2_IA_DA02_SPA_PRESS</th>\n",
              "      <th>CM2_IA_GAS01_SP_FLOW_AID</th>\n",
              "      <th>CM2_IA_RB01_SP_TOTAL_FEED</th>\n",
              "      <th>CM2_IA_VRM01_SP_PRESS_GRIDING</th>\n",
              "      <th>CM2_IA_WI01_SP_WATER_INJECTION</th>\n",
              "      <th>CM2_IA_SC01_SPA_TEMP_OUT</th>\n",
              "    </tr>\n",
              "  </thead>\n",
              "  <tbody>\n",
              "    <tr>\n",
              "      <th>0</th>\n",
              "      <td>01/01/2025 00:00:00</td>\n",
              "      <td>6</td>\n",
              "      <td>0.0</td>\n",
              "      <td>0.0</td>\n",
              "      <td>41.644386</td>\n",
              "      <td>0.286501</td>\n",
              "      <td>0.053487</td>\n",
              "      <td>3.974631</td>\n",
              "      <td>0.0</td>\n",
              "      <td>0.0</td>\n",
              "      <td>...</td>\n",
              "      <td>0</td>\n",
              "      <td>0</td>\n",
              "      <td>69.0</td>\n",
              "      <td>83.0</td>\n",
              "      <td>-5.0</td>\n",
              "      <td>25.974026</td>\n",
              "      <td>80.5</td>\n",
              "      <td>5.6</td>\n",
              "      <td>2900.0</td>\n",
              "      <td>98.0</td>\n",
              "    </tr>\n",
              "    <tr>\n",
              "      <th>1</th>\n",
              "      <td>01/01/2025 00:00:30</td>\n",
              "      <td>6</td>\n",
              "      <td>0.0</td>\n",
              "      <td>0.0</td>\n",
              "      <td>41.622430</td>\n",
              "      <td>0.273111</td>\n",
              "      <td>0.053425</td>\n",
              "      <td>3.974594</td>\n",
              "      <td>0.0</td>\n",
              "      <td>0.0</td>\n",
              "      <td>...</td>\n",
              "      <td>0</td>\n",
              "      <td>0</td>\n",
              "      <td>69.0</td>\n",
              "      <td>83.0</td>\n",
              "      <td>-5.0</td>\n",
              "      <td>25.974026</td>\n",
              "      <td>80.5</td>\n",
              "      <td>5.6</td>\n",
              "      <td>2900.0</td>\n",
              "      <td>98.0</td>\n",
              "    </tr>\n",
              "    <tr>\n",
              "      <th>2</th>\n",
              "      <td>01/01/2025 00:01:00</td>\n",
              "      <td>6</td>\n",
              "      <td>0.0</td>\n",
              "      <td>0.0</td>\n",
              "      <td>41.600468</td>\n",
              "      <td>0.239829</td>\n",
              "      <td>0.053363</td>\n",
              "      <td>3.974557</td>\n",
              "      <td>0.0</td>\n",
              "      <td>0.0</td>\n",
              "      <td>...</td>\n",
              "      <td>0</td>\n",
              "      <td>0</td>\n",
              "      <td>69.0</td>\n",
              "      <td>83.0</td>\n",
              "      <td>-5.0</td>\n",
              "      <td>25.974026</td>\n",
              "      <td>80.5</td>\n",
              "      <td>5.6</td>\n",
              "      <td>2900.0</td>\n",
              "      <td>98.0</td>\n",
              "    </tr>\n",
              "    <tr>\n",
              "      <th>3</th>\n",
              "      <td>01/01/2025 00:01:30</td>\n",
              "      <td>6</td>\n",
              "      <td>0.0</td>\n",
              "      <td>0.0</td>\n",
              "      <td>41.578510</td>\n",
              "      <td>0.271138</td>\n",
              "      <td>0.053301</td>\n",
              "      <td>3.974520</td>\n",
              "      <td>0.0</td>\n",
              "      <td>0.0</td>\n",
              "      <td>...</td>\n",
              "      <td>0</td>\n",
              "      <td>0</td>\n",
              "      <td>69.0</td>\n",
              "      <td>83.0</td>\n",
              "      <td>-5.0</td>\n",
              "      <td>25.974026</td>\n",
              "      <td>80.5</td>\n",
              "      <td>5.6</td>\n",
              "      <td>2900.0</td>\n",
              "      <td>98.0</td>\n",
              "    </tr>\n",
              "    <tr>\n",
              "      <th>4</th>\n",
              "      <td>01/01/2025 00:02:00</td>\n",
              "      <td>6</td>\n",
              "      <td>0.0</td>\n",
              "      <td>0.0</td>\n",
              "      <td>41.556550</td>\n",
              "      <td>0.288582</td>\n",
              "      <td>0.053239</td>\n",
              "      <td>3.974483</td>\n",
              "      <td>0.0</td>\n",
              "      <td>0.0</td>\n",
              "      <td>...</td>\n",
              "      <td>0</td>\n",
              "      <td>0</td>\n",
              "      <td>69.0</td>\n",
              "      <td>83.0</td>\n",
              "      <td>-5.0</td>\n",
              "      <td>25.974026</td>\n",
              "      <td>80.5</td>\n",
              "      <td>5.6</td>\n",
              "      <td>2900.0</td>\n",
              "      <td>98.0</td>\n",
              "    </tr>\n",
              "  </tbody>\n",
              "</table>\n",
              "<p>5 rows × 91 columns</p>\n",
              "</div>"
            ],
            "text/plain": [
              "            Timestamps  CM2_PV_PRODUCT  CM2_PV_BE01_CURRENT  \\\n",
              "0  01/01/2025 00:00:00               6                  0.0   \n",
              "1  01/01/2025 00:00:30               6                  0.0   \n",
              "2  01/01/2025 00:01:00               6                  0.0   \n",
              "3  01/01/2025 00:01:30               6                  0.0   \n",
              "4  01/01/2025 00:02:00               6                  0.0   \n",
              "\n",
              "   CM2_PV_BE02_POWER  CM2_PV_BF01_OUT_TEMPERATURE  CM2_PV_BF01_PRESSURE  \\\n",
              "0                0.0                    41.644386              0.286501   \n",
              "1                0.0                    41.622430              0.273111   \n",
              "2                0.0                    41.600468              0.239829   \n",
              "3                0.0                    41.578510              0.271138   \n",
              "4                0.0                    41.556550              0.288582   \n",
              "\n",
              "   CM2_PV_BF01_DIF_PRESSURE  CM2_PV_BF01_DIF_PRESSURE1  CM2_FLOW_RATE_COAL  \\\n",
              "0                  0.053487                   3.974631                 0.0   \n",
              "1                  0.053425                   3.974594                 0.0   \n",
              "2                  0.053363                   3.974557                 0.0   \n",
              "3                  0.053301                   3.974520                 0.0   \n",
              "4                  0.053239                   3.974483                 0.0   \n",
              "\n",
              "   CM2_PV_CLA01_POWER  ...  CM2_ST_IA_READY  CM2_ST_IA_USE  \\\n",
              "0                 0.0  ...                0              0   \n",
              "1                 0.0  ...                0              0   \n",
              "2                 0.0  ...                0              0   \n",
              "3                 0.0  ...                0              0   \n",
              "4                 0.0  ...                0              0   \n",
              "\n",
              "   CM2_IA_CLA01_SP_SPEED  CM2_IA_DA01_SP_POSITION  CM2_IA_DA02_SPA_PRESS  \\\n",
              "0                   69.0                     83.0                   -5.0   \n",
              "1                   69.0                     83.0                   -5.0   \n",
              "2                   69.0                     83.0                   -5.0   \n",
              "3                   69.0                     83.0                   -5.0   \n",
              "4                   69.0                     83.0                   -5.0   \n",
              "\n",
              "   CM2_IA_GAS01_SP_FLOW_AID  CM2_IA_RB01_SP_TOTAL_FEED  \\\n",
              "0                 25.974026                       80.5   \n",
              "1                 25.974026                       80.5   \n",
              "2                 25.974026                       80.5   \n",
              "3                 25.974026                       80.5   \n",
              "4                 25.974026                       80.5   \n",
              "\n",
              "   CM2_IA_VRM01_SP_PRESS_GRIDING  CM2_IA_WI01_SP_WATER_INJECTION  \\\n",
              "0                            5.6                          2900.0   \n",
              "1                            5.6                          2900.0   \n",
              "2                            5.6                          2900.0   \n",
              "3                            5.6                          2900.0   \n",
              "4                            5.6                          2900.0   \n",
              "\n",
              "   CM2_IA_SC01_SPA_TEMP_OUT  \n",
              "0                      98.0  \n",
              "1                      98.0  \n",
              "2                      98.0  \n",
              "3                      98.0  \n",
              "4                      98.0  \n",
              "\n",
              "[5 rows x 91 columns]"
            ]
          },
          "execution_count": 3,
          "metadata": {},
          "output_type": "execute_result"
        }
      ],
      "source": [
        "folder_path = r'C:\\Users\\paulo\\OneDrive\\Área de Trabalho\\TCC\\dados 2025\\CM2 DADOS APOS PARADA'\n",
        "df_raw = load_and_merge(folder_path, info=True)\n",
        "df_raw.head()"
      ]
    },
    {
      "cell_type": "code",
      "execution_count": 4,
      "metadata": {
        "id": "XYirHPbQESGv"
      },
      "outputs": [],
      "source": [
        "df = df_raw#.iloc[:30000]"
      ]
    },
    {
      "cell_type": "code",
      "execution_count": 5,
      "metadata": {
        "id": "gqtWms0LmJxv"
      },
      "outputs": [],
      "source": [
        "# Tratar dados em relação a Timestamps\n",
        "\n",
        "df['Timestamps'] = pd.to_datetime(df.Timestamps, format='%d/%m/%Y %H:%M:%S', dayfirst=True)\n",
        "\n",
        "df.sort_values(by=['Timestamps'], inplace=True, ascending=True)\n",
        "\n",
        "df = df.drop_duplicates('Timestamps')\n",
        "\n",
        "df = df.set_index('Timestamps')"
      ]
    },
    {
      "cell_type": "code",
      "execution_count": 6,
      "metadata": {
        "colab": {
          "base_uri": "https://localhost:8080/",
          "height": 542
        },
        "id": "nUry0SyaIbeM",
        "outputId": "c303aecb-b2a6-461c-a123-6e1c1e4c1c3f"
      },
      "outputs": [
        {
          "ename": "ValueError",
          "evalue": "Mime type rendering requires nbformat>=4.2.0 but it is not installed",
          "output_type": "error",
          "traceback": [
            "\u001b[1;31m---------------------------------------------------------------------------\u001b[0m",
            "\u001b[1;31mValueError\u001b[0m                                Traceback (most recent call last)",
            "Cell \u001b[1;32mIn[6], line 5\u001b[0m\n\u001b[0;32m      1\u001b[0m fig \u001b[38;5;241m=\u001b[39m px\u001b[38;5;241m.\u001b[39mline(df, x\u001b[38;5;241m=\u001b[39mdf\u001b[38;5;241m.\u001b[39mindex, y\u001b[38;5;241m=\u001b[39m\u001b[38;5;124m'\u001b[39m\u001b[38;5;124mCM2_PV_VRM01_VIBRATION\u001b[39m\u001b[38;5;124m'\u001b[39m,\n\u001b[0;32m      2\u001b[0m               title\u001b[38;5;241m=\u001b[39m\u001b[38;5;124m'\u001b[39m\u001b[38;5;124mVibração CM2_PV_VRM01\u001b[39m\u001b[38;5;124m'\u001b[39m,\n\u001b[0;32m      3\u001b[0m               labels\u001b[38;5;241m=\u001b[39m{\u001b[38;5;124m'\u001b[39m\u001b[38;5;124mx\u001b[39m\u001b[38;5;124m'\u001b[39m: \u001b[38;5;124m'\u001b[39m\u001b[38;5;124mData/Hora\u001b[39m\u001b[38;5;124m'\u001b[39m, \u001b[38;5;124m'\u001b[39m\u001b[38;5;124mCM2_PV_VRM01_VIBRATION\u001b[39m\u001b[38;5;124m'\u001b[39m: \u001b[38;5;124m'\u001b[39m\u001b[38;5;124mVibração\u001b[39m\u001b[38;5;124m'\u001b[39m})\n\u001b[1;32m----> 5\u001b[0m fig\u001b[38;5;241m.\u001b[39mshow()\n",
            "File \u001b[1;32mc:\\Users\\paulo\\anaconda3\\Lib\\site-packages\\plotly\\basedatatypes.py:3398\u001b[0m, in \u001b[0;36mBaseFigure.show\u001b[1;34m(self, *args, **kwargs)\u001b[0m\n\u001b[0;32m   3365\u001b[0m \u001b[38;5;250m\u001b[39m\u001b[38;5;124;03m\"\"\"\u001b[39;00m\n\u001b[0;32m   3366\u001b[0m \u001b[38;5;124;03mShow a figure using either the default renderer(s) or the renderer(s)\u001b[39;00m\n\u001b[0;32m   3367\u001b[0m \u001b[38;5;124;03mspecified by the renderer argument\u001b[39;00m\n\u001b[1;32m   (...)\u001b[0m\n\u001b[0;32m   3394\u001b[0m \u001b[38;5;124;03mNone\u001b[39;00m\n\u001b[0;32m   3395\u001b[0m \u001b[38;5;124;03m\"\"\"\u001b[39;00m\n\u001b[0;32m   3396\u001b[0m \u001b[38;5;28;01mimport\u001b[39;00m \u001b[38;5;21;01mplotly\u001b[39;00m\u001b[38;5;21;01m.\u001b[39;00m\u001b[38;5;21;01mio\u001b[39;00m \u001b[38;5;28;01mas\u001b[39;00m \u001b[38;5;21;01mpio\u001b[39;00m\n\u001b[1;32m-> 3398\u001b[0m \u001b[38;5;28;01mreturn\u001b[39;00m pio\u001b[38;5;241m.\u001b[39mshow(\u001b[38;5;28mself\u001b[39m, \u001b[38;5;241m*\u001b[39margs, \u001b[38;5;241m*\u001b[39m\u001b[38;5;241m*\u001b[39mkwargs)\n",
            "File \u001b[1;32mc:\\Users\\paulo\\anaconda3\\Lib\\site-packages\\plotly\\io\\_renderers.py:396\u001b[0m, in \u001b[0;36mshow\u001b[1;34m(fig, renderer, validate, **kwargs)\u001b[0m\n\u001b[0;32m    391\u001b[0m         \u001b[38;5;28;01mraise\u001b[39;00m \u001b[38;5;167;01mValueError\u001b[39;00m(\n\u001b[0;32m    392\u001b[0m             \u001b[38;5;124m\"\u001b[39m\u001b[38;5;124mMime type rendering requires ipython but it is not installed\u001b[39m\u001b[38;5;124m\"\u001b[39m\n\u001b[0;32m    393\u001b[0m         )\n\u001b[0;32m    395\u001b[0m     \u001b[38;5;28;01mif\u001b[39;00m \u001b[38;5;129;01mnot\u001b[39;00m nbformat \u001b[38;5;129;01mor\u001b[39;00m LooseVersion(nbformat\u001b[38;5;241m.\u001b[39m__version__) \u001b[38;5;241m<\u001b[39m LooseVersion(\u001b[38;5;124m\"\u001b[39m\u001b[38;5;124m4.2.0\u001b[39m\u001b[38;5;124m\"\u001b[39m):\n\u001b[1;32m--> 396\u001b[0m         \u001b[38;5;28;01mraise\u001b[39;00m \u001b[38;5;167;01mValueError\u001b[39;00m(\n\u001b[0;32m    397\u001b[0m             \u001b[38;5;124m\"\u001b[39m\u001b[38;5;124mMime type rendering requires nbformat>=4.2.0 but it is not installed\u001b[39m\u001b[38;5;124m\"\u001b[39m\n\u001b[0;32m    398\u001b[0m         )\n\u001b[0;32m    400\u001b[0m     ipython_display\u001b[38;5;241m.\u001b[39mdisplay(bundle, raw\u001b[38;5;241m=\u001b[39m\u001b[38;5;28;01mTrue\u001b[39;00m)\n\u001b[0;32m    402\u001b[0m \u001b[38;5;66;03m# external renderers\u001b[39;00m\n",
            "\u001b[1;31mValueError\u001b[0m: Mime type rendering requires nbformat>=4.2.0 but it is not installed"
          ]
        }
      ],
      "source": [
        "fig = px.line(df, x=df.index, y='CM2_PV_VRM01_VIBRATION',\n",
        "              title='Vibração CM2_PV_VRM01',\n",
        "              labels={'x': 'Data/Hora', 'CM2_PV_VRM01_VIBRATION': 'Vibração'})\n",
        "\n",
        "fig.show()"
      ]
    },
    {
      "cell_type": "code",
      "execution_count": 6,
      "metadata": {
        "colab": {
          "base_uri": "https://localhost:8080/"
        },
        "id": "bREBONWACvG-",
        "outputId": "ab73b6d5-b8dc-43d2-f436-2cc27cef4527"
      },
      "outputs": [
        {
          "name": "stdout",
          "output_type": "stream",
          "text": [
            "Min date: 2025-01-01 00:00:00\n",
            "Max date: 2025-03-23 23:59:30\n"
          ]
        }
      ],
      "source": [
        "min_date = df.index.min()\n",
        "max_date = df.index.max()\n",
        "\n",
        "print(\"Min date:\", min_date)\n",
        "print(\"Max date:\", max_date)"
      ]
    },
    {
      "cell_type": "code",
      "execution_count": 7,
      "metadata": {
        "id": "84LOLlbd_7Y6"
      },
      "outputs": [],
      "source": [
        "df = df.loc['2025-02-07':'2025-03-23']"
      ]
    },
    {
      "cell_type": "markdown",
      "metadata": {
        "id": "p92dOzCLYc7v"
      },
      "source": [
        "# Funções"
      ]
    },
    {
      "cell_type": "markdown",
      "metadata": {
        "id": "DRcxj1EAGjQ7"
      },
      "source": [
        "Plotar histogramas"
      ]
    },
    {
      "cell_type": "code",
      "execution_count": 8,
      "metadata": {
        "id": "OqWyPuWdGktR"
      },
      "outputs": [],
      "source": [
        "def hist(df, ncols=5, figsize=(20, 15)):\n",
        "    \"\"\"\n",
        "    Plota histogramas para cada coluna em um DataFrame, com múltiplas variáveis distribuídas em subplots.\n",
        "\n",
        "    Parâmetros:\n",
        "    df (pd.DataFrame): DataFrame contendo os dados.\n",
        "    ncols (int): Número de colunas de subplots por linha. Padrão é 5.\n",
        "    figsize (tuple): Tamanho da figura do plot. Padrão é (20, 15).\n",
        "\n",
        "    Retorna:\n",
        "    Hist plot.\n",
        "    \"\"\"\n",
        "    num_columns = df.shape[1]\n",
        "    nrows = math.ceil(num_columns / ncols)\n",
        "\n",
        "    fig, axes = plt.subplots(nrows=nrows, ncols=ncols, figsize=figsize)\n",
        "    axes = axes.flatten()  # Flatten the axes array for easy iteration\n",
        "\n",
        "    # Criar os histogramas\n",
        "    for i, col in enumerate(df.columns):\n",
        "        df[col].hist(ax=axes[i], bins=100)\n",
        "        axes[i].set_title(col)\n",
        "\n",
        "    # Remover subplots vazios\n",
        "    for j in range(i + 1, len(axes)):\n",
        "        fig.delaxes(axes[j])\n",
        "\n",
        "    plt.tight_layout()\n",
        "    plt.subplots_adjust(hspace=1, wspace=1)  # Ajustar os espaçamentos\n",
        "    plt.show()"
      ]
    },
    {
      "cell_type": "markdown",
      "metadata": {
        "id": "ZyxNEV0JGI4R"
      },
      "source": [
        "Plotar séries temporais"
      ]
    },
    {
      "cell_type": "code",
      "execution_count": 9,
      "metadata": {
        "id": "wzbVRIL0GIZU"
      },
      "outputs": [],
      "source": [
        "def time_series(df, cols_per_row=3, figsize=(20, 50)):\n",
        "    \"\"\"\n",
        "    Plota séries temporais de um DataFrame, com múltiplas variáveis distribuídas em subplots.\n",
        "\n",
        "    Parâmetros:\n",
        "    df (pd.DataFrame): DataFrame contendo as séries temporais.\n",
        "    cols_per_row (int): Número de colunas de subplots por linha. Padrão é 3.\n",
        "    figsize (tuple): Tamanho da figura do plot. Padrão é (20, 50).\n",
        "\n",
        "    Retorna:\n",
        "    Timeseries plot.\n",
        "    \"\"\"\n",
        "    num_vars = len(df.columns)\n",
        "    num_rows = math.ceil(num_vars / cols_per_row)\n",
        "\n",
        "    fig, axs = plt.subplots(num_rows, cols_per_row, figsize=figsize)\n",
        "    axs = axs.flatten()  # Flatten para facilitar o indexamento\n",
        "\n",
        "    # Plotando cada variável em um subplot\n",
        "    for i, column in enumerate(df.columns):\n",
        "        axs[i].plot(df.index, df[column])\n",
        "        axs[i].set_title(f'Time Series of {column}')\n",
        "        axs[i].grid(False)\n",
        "\n",
        "    # Remover subplots vazios\n",
        "    for i in range(num_vars, len(axs)):\n",
        "        fig.delaxes(axs[i])\n",
        "\n",
        "    plt.tight_layout()\n",
        "    plt.show()"
      ]
    },
    {
      "cell_type": "markdown",
      "metadata": {
        "id": "v7TQhZmpG0Gv"
      },
      "source": [
        "Plotar scatter plot"
      ]
    },
    {
      "cell_type": "code",
      "execution_count": 10,
      "metadata": {
        "id": "QkeSTsfVG1XV"
      },
      "outputs": [],
      "source": [
        "def scatter_target(df, target_column='CM2_PV_VRM01_VIBRATION', cols_per_row=3, figsize=(20, 5)):\n",
        "    \"\"\"\n",
        "    Plota gráficos de dispersão de cada coluna em relação a uma coluna de destino especificada.\n",
        "    Mostra a correlação de Pearson (r) para cada subplot.\n",
        "\n",
        "    Parâmetros:\n",
        "    df (pd.DataFrame): DataFrame contendo os dados.\n",
        "    target_column (str): Nome da coluna de destino para comparação. Padrão é 'CD1_PV_VRM01_VIBRATION'.\n",
        "    cols_per_row (int): Número de colunas de subplots por linha. Padrão é 3.\n",
        "    figsize (tuple): Tamanho base da figura do plot. A altura é ajustada automaticamente conforme necessário.\n",
        "\n",
        "    Retorna:\n",
        "    None\n",
        "    \"\"\"\n",
        "    num_vars = len(df.columns)\n",
        "    num_rows = math.ceil((num_vars - 1) / cols_per_row)  # Subtraímos 1 para não incluir a coluna de destino\n",
        "\n",
        "    fig, axs = plt.subplots(num_rows, cols_per_row, figsize=(figsize[0], figsize[1] * num_rows))\n",
        "    axs = axs.flatten()  # Flatten para facilitar o indexamento\n",
        "\n",
        "    # Plotando cada variável em relação à coluna de destino\n",
        "    plot_idx = 0\n",
        "    for i, column in enumerate(df.columns):\n",
        "        if column != target_column:  # Ignorar a coluna de destino para não se comparar com ela mesma\n",
        "            r = df[column].corr(df[target_column])  # Calculando a correlação de Pearson\n",
        "            axs[plot_idx].scatter(df[column], df[target_column])\n",
        "            axs[plot_idx].set_title(f'{column} vs {target_column}\\n$r={r:.2f}$')\n",
        "            axs[plot_idx].grid(False)\n",
        "            plot_idx += 1\n",
        "\n",
        "    # Remover subplots vazios\n",
        "    for i in range(plot_idx, len(axs)):\n",
        "        fig.delaxes(axs[i])\n",
        "\n",
        "    plt.tight_layout()\n",
        "    plt.show()"
      ]
    },
    {
      "cell_type": "markdown",
      "metadata": {
        "id": "nD6b84M5ewnw"
      },
      "source": [
        "Plotar heatmap"
      ]
    },
    {
      "cell_type": "code",
      "execution_count": 11,
      "metadata": {
        "id": "49294c8Yexlp"
      },
      "outputs": [],
      "source": [
        "def corr_matrix_target(df, target_column='CM2_PV_VRM01_VIBRATION', threshold=0.4, figsize=(10, 8), cmap='coolwarm'):\n",
        "    \"\"\"\n",
        "    Plota um heatmap da matriz de correlação filtrada, mostrando apenas correlações acima de um valor absoluto específico.\n",
        "\n",
        "    Parâmetros:\n",
        "    df (pd.DataFrame): DataFrame contendo os dados.\n",
        "    target_column (str): Nome da coluna de destino para filtragem de correlações. Padrão é 'CD1_PV_VRM01_VIBRATION'.\n",
        "    threshold (float): Valor absoluto mínimo de correlação para inclusão no heatmap. Padrão é 0.4.\n",
        "    figsize (tuple): Tamanho da figura do heatmap. Padrão é (10, 8).\n",
        "    cmap (str): Mapa de cores para o heatmap. Padrão é 'coolwarm'.\n",
        "\n",
        "    Retorna:\n",
        "    None\n",
        "    \"\"\"\n",
        "    # Calcular a matriz de correlação\n",
        "    correlation_matrix = df.corr()\n",
        "\n",
        "    # Filtrar as correlações com a coluna de destino\n",
        "    correlation_with_target = correlation_matrix[target_column]\n",
        "\n",
        "    # Selecionar variáveis com correlação maior que o limiar especificado\n",
        "    selected_columns = correlation_with_target[abs(correlation_with_target) > threshold].index\n",
        "\n",
        "    # Gerar a matriz de correlação filtrada\n",
        "    filtered_correlation_matrix = correlation_matrix.loc[selected_columns, selected_columns]\n",
        "\n",
        "    # Plotar o heatmap da matriz de correlação filtrada\n",
        "    plt.figure(figsize=figsize)\n",
        "    sns.heatmap(filtered_correlation_matrix, annot=True, cmap=cmap, fmt='.2f', linewidths=0.5)\n",
        "    plt.title(f'Matriz de Correlação (acima de {threshold} em valor absoluto)')\n",
        "    plt.show()"
      ]
    },
    {
      "cell_type": "markdown",
      "metadata": {
        "id": "6UjHBDG3fAbM"
      },
      "source": [
        "Tabela de correlação com vibração"
      ]
    },
    {
      "cell_type": "code",
      "execution_count": 12,
      "metadata": {
        "id": "QyL73Z7IfCZi"
      },
      "outputs": [],
      "source": [
        "def corr_target(df, target_column='CM2_PV_VRM01_VIBRATION', benchmark=0.4):\n",
        "    \"\"\"\n",
        "    Retorna uma tabela de correlações filtrada mostrando apenas variáveis com correlação relevante em relação à coluna de destino.\n",
        "\n",
        "    Parâmetros:\n",
        "    df (pd.DataFrame): DataFrame contendo os dados.\n",
        "    target_column (str): Nome da coluna de destino para filtragem de correlações. Padrão é 'CD1_PV_VRM01_VIBRATION'.\n",
        "    benchmark (float): Valor mínimo absoluto de correlação para inclusão na tabela. Padrão é 0.4.\n",
        "\n",
        "    Retorna:\n",
        "    pd.DataFrame: DataFrame contendo variáveis e suas correlações com a coluna de destino.\n",
        "    \"\"\"\n",
        "    # Calcular a matriz de correlação\n",
        "    correlation_matrix = df.corr()\n",
        "\n",
        "    # Filtrar as correlações com a coluna de destino\n",
        "    correlation_with_target = correlation_matrix[target_column]\n",
        "\n",
        "    # Criar uma tabela filtrada pelas correlações relevantes\n",
        "    filtered_correlations = correlation_with_target[\n",
        "        (correlation_with_target.abs() >= benchmark) &\n",
        "        (correlation_with_target.index != target_column)\n",
        "    ].sort_values(ascending=False).to_frame().reset_index()\n",
        "\n",
        "    filtered_correlations.columns = ['Variable', 'Correlation to Vibration']\n",
        "\n",
        "    return filtered_correlations"
      ]
    },
    {
      "cell_type": "markdown",
      "metadata": {
        "id": "TOisbPcjfMEJ"
      },
      "source": [
        "Boxplots"
      ]
    },
    {
      "cell_type": "code",
      "execution_count": 13,
      "metadata": {
        "id": "NrmqbTXsfMwz"
      },
      "outputs": [],
      "source": [
        "def boxplots(df, num_cols=3, figsize=(20, 5)):\n",
        "    \"\"\"\n",
        "    Plota boxplots para cada coluna em um DataFrame, com múltiplas variáveis distribuídas em subplots.\n",
        "\n",
        "    Parâmetros:\n",
        "    df (pd.DataFrame): DataFrame contendo os dados.\n",
        "    num_cols (int): Número de colunas de subplots por linha. Padrão é 3.\n",
        "    figsize (tuple): Tamanho base da figura do plot. A altura é ajustada automaticamente conforme necessário.\n",
        "\n",
        "    Retorna:\n",
        "    None\n",
        "    \"\"\"\n",
        "    # Filtrar apenas colunas numéricas\n",
        "    numeric_columns = df.select_dtypes(include='number').columns\n",
        "    num_vars = len(numeric_columns)\n",
        "\n",
        "    if num_vars == 0:\n",
        "        raise ValueError(\"O DataFrame não contém colunas numéricas para plotar.\")\n",
        "\n",
        "    num_rows = math.ceil(num_vars / num_cols)  # Ajustar o número de linhas\n",
        "\n",
        "    fig, axs = plt.subplots(num_rows, num_cols, figsize=(figsize[0], figsize[1] * num_rows))\n",
        "    axs = axs.flatten()  # Flatten para facilitar o indexamento\n",
        "\n",
        "    # Plotando boxplots para cada variável numérica\n",
        "    for i, column in enumerate(numeric_columns):\n",
        "        sns.boxplot(data=df[column], ax=axs[i])\n",
        "        axs[i].set_title(f'Boxplot: {column}')\n",
        "        axs[i].set_xlabel(column)\n",
        "        axs[i].grid(True)\n",
        "\n",
        "    # Remover subplots vazios\n",
        "    for i in range(num_vars, len(axs)):\n",
        "        fig.delaxes(axs[i])\n",
        "\n",
        "    plt.tight_layout()\n",
        "    plt.show()"
      ]
    },
    {
      "cell_type": "markdown",
      "metadata": {
        "id": "B43xHTtkfZzh"
      },
      "source": [
        "Z-score"
      ]
    },
    {
      "cell_type": "code",
      "execution_count": 14,
      "metadata": {
        "id": "fTCxLSuOfakR"
      },
      "outputs": [],
      "source": [
        "def zscore(df, max_vars_per_plot=10, num_cols=2, figsize=(20, 5)):\n",
        "    \"\"\"\n",
        "    Plota boxplots dos Z-scores para cada coluna numérica em um DataFrame, organizando em grupos de variáveis.\n",
        "\n",
        "    Parâmetros:\n",
        "    df (pd.DataFrame): DataFrame contendo os dados.\n",
        "    max_vars_per_plot (int): Número máximo de variáveis por plot. Padrão é 10.\n",
        "    num_cols (int): Número de colunas de subplots por linha. Padrão é 2.\n",
        "    figsize (tuple): Tamanho base da figura do plot. A altura é ajustada automaticamente conforme necessário.\n",
        "\n",
        "    Retorna:\n",
        "    None\n",
        "    \"\"\"\n",
        "    # Calculando os Z-scores\n",
        "    z_scores = zscore(df.select_dtypes(include=['float64', 'int64']))\n",
        "\n",
        "    # Convertendo os Z-scores em um DataFrame\n",
        "    z_scores_df = pd.DataFrame(z_scores, columns=df.select_dtypes(include=['float64', 'int64']).columns)\n",
        "\n",
        "    # Dividindo as colunas em grupos de no máximo max_vars_per_plot\n",
        "    columns = z_scores_df.columns\n",
        "    column_groups = [columns[i:i + max_vars_per_plot] for i in range(0, len(columns), max_vars_per_plot)]\n",
        "\n",
        "    # Calcular o número de linhas necessário\n",
        "    num_rows = int(np.ceil(len(column_groups) / num_cols))\n",
        "\n",
        "    # Criando o layout\n",
        "    fig, axs = plt.subplots(num_rows, num_cols, figsize=(figsize[0], figsize[1] * num_rows))\n",
        "    axs = axs.flatten()  # Flatten para facilitar o indexamento\n",
        "\n",
        "    # Plotando cada grupo em um subplot\n",
        "    for i, group in enumerate(column_groups):\n",
        "        sns.boxplot(data=z_scores_df[group], ax=axs[i])\n",
        "        axs[i].set_title(f'Boxplot dos Z-scores (Grupo {i + 1})')\n",
        "        axs[i].set_xlabel('Variáveis')\n",
        "        axs[i].set_ylabel('Z-score')\n",
        "        axs[i].tick_params(axis='x', rotation=45)  # Rotaciona os rótulos do eixo X\n",
        "        axs[i].grid(True)\n",
        "\n",
        "    # Removendo subplots vazios\n",
        "    for j in range(len(column_groups), len(axs)):\n",
        "        fig.delaxes(axs[j])\n",
        "\n",
        "    plt.tight_layout()\n",
        "    plt.show()"
      ]
    },
    {
      "cell_type": "code",
      "execution_count": 15,
      "metadata": {
        "id": "mc4Felyl80PH"
      },
      "outputs": [],
      "source": [
        "# Função para plotar histogramas comparando original x iqr x zscore\n",
        "def plot_histograms(data_original, data_iqr, data_zscore, columns):\n",
        "    num_columns = len(columns)\n",
        "    fig, axes = plt.subplots(num_columns, 3, figsize=(15, num_columns * 4))\n",
        "\n",
        "    for i, column in enumerate(columns):\n",
        "        # Plotar histograma para os dados originais\n",
        "        axes[i, 0].hist(data_original[column].dropna(), bins=30, alpha=0.7, color='blue')\n",
        "        axes[i, 0].set_title(f'Original - {column}')\n",
        "\n",
        "        # Plotar histograma para os dados após remoção de outliers pelo método IQR\n",
        "        axes[i, 1].hist(data_iqr[column].dropna(), bins=30, alpha=0.7, color='green')\n",
        "        axes[i, 1].set_title(f'IQR - {column}')\n",
        "\n",
        "        # Plotar histograma para os dados após remoção de outliers pelo método Z-Score\n",
        "        axes[i, 2].hist(data_zscore[column].dropna(), bins=30, alpha=0.7, color='red')\n",
        "        axes[i, 2].set_title(f'Z-Score - {column}')\n",
        "\n",
        "    plt.tight_layout()\n",
        "    plt.show()"
      ]
    },
    {
      "cell_type": "markdown",
      "metadata": {
        "id": "ItCpoXqEX6En"
      },
      "source": [
        "# Tratar dados"
      ]
    },
    {
      "cell_type": "code",
      "execution_count": 16,
      "metadata": {
        "colab": {
          "base_uri": "https://localhost:8080/",
          "height": 84
        },
        "id": "ApwoCnR9fDwW",
        "outputId": "aef58deb-d6a9-4a6f-8431-8b692b4d1e33"
      },
      "outputs": [
        {
          "data": {
            "text/html": [
              "<div>\n",
              "<style scoped>\n",
              "    .dataframe tbody tr th:only-of-type {\n",
              "        vertical-align: middle;\n",
              "    }\n",
              "\n",
              "    .dataframe tbody tr th {\n",
              "        vertical-align: top;\n",
              "    }\n",
              "\n",
              "    .dataframe thead th {\n",
              "        text-align: right;\n",
              "    }\n",
              "</style>\n",
              "<table border=\"1\" class=\"dataframe\">\n",
              "  <thead>\n",
              "    <tr style=\"text-align: right;\">\n",
              "      <th></th>\n",
              "      <th>0</th>\n",
              "    </tr>\n",
              "  </thead>\n",
              "  <tbody>\n",
              "  </tbody>\n",
              "</table>\n",
              "</div><br><label><b>dtype:</b> int64</label>"
            ],
            "text/plain": [
              "Series([], dtype: int64)"
            ]
          },
          "execution_count": 16,
          "metadata": {},
          "output_type": "execute_result"
        }
      ],
      "source": [
        "null_counts = df.isnull().sum()\n",
        "null_counts[null_counts > 0]"
      ]
    },
    {
      "cell_type": "markdown",
      "metadata": {
        "id": "hnRULRv5V9VC"
      },
      "source": [
        "# EDA"
      ]
    },
    {
      "cell_type": "code",
      "execution_count": 17,
      "metadata": {
        "colab": {
          "base_uri": "https://localhost:8080/",
          "height": 374
        },
        "id": "4QvrVIQlZOLk",
        "outputId": "cdaaab00-8137-43a4-f3de-f9f8c29bdd54"
      },
      "outputs": [
        {
          "data": {
            "application/vnd.google.colaboratory.intrinsic+json": {
              "type": "dataframe",
              "variable_name": "df"
            },
            "text/html": [
              "\n",
              "  <div id=\"df-49e0bdd2-6e6a-4d86-a9dd-ffdb998530c6\" class=\"colab-df-container\">\n",
              "    <div>\n",
              "<style scoped>\n",
              "    .dataframe tbody tr th:only-of-type {\n",
              "        vertical-align: middle;\n",
              "    }\n",
              "\n",
              "    .dataframe tbody tr th {\n",
              "        vertical-align: top;\n",
              "    }\n",
              "\n",
              "    .dataframe thead th {\n",
              "        text-align: right;\n",
              "    }\n",
              "</style>\n",
              "<table border=\"1\" class=\"dataframe\">\n",
              "  <thead>\n",
              "    <tr style=\"text-align: right;\">\n",
              "      <th></th>\n",
              "      <th>CM2_PV_PRODUCT</th>\n",
              "      <th>CM2_PV_BE01_CURRENT</th>\n",
              "      <th>CM2_PV_BE02_POWER</th>\n",
              "      <th>CM2_PV_BF01_OUT_TEMPERATURE</th>\n",
              "      <th>CM2_PV_BF01_PRESSURE</th>\n",
              "      <th>CM2_PV_BF01_DIF_PRESSURE</th>\n",
              "      <th>CM2_PV_BF01_DIF_PRESSURE1</th>\n",
              "      <th>CM2_FLOW_RATE_COAL</th>\n",
              "      <th>CM2_PV_CLA01_POWER</th>\n",
              "      <th>CM2_PV_CLA01_SPEED</th>\n",
              "      <th>...</th>\n",
              "      <th>CM2_ST_IA_READY</th>\n",
              "      <th>CM2_ST_IA_USE</th>\n",
              "      <th>CM2_IA_CLA01_SP_SPEED</th>\n",
              "      <th>CM2_IA_DA01_SP_POSITION</th>\n",
              "      <th>CM2_IA_DA02_SPA_PRESS</th>\n",
              "      <th>CM2_IA_GAS01_SP_FLOW_AID</th>\n",
              "      <th>CM2_IA_RB01_SP_TOTAL_FEED</th>\n",
              "      <th>CM2_IA_VRM01_SP_PRESS_GRIDING</th>\n",
              "      <th>CM2_IA_WI01_SP_WATER_INJECTION</th>\n",
              "      <th>CM2_IA_SC01_SPA_TEMP_OUT</th>\n",
              "    </tr>\n",
              "    <tr>\n",
              "      <th>Timestamps</th>\n",
              "      <th></th>\n",
              "      <th></th>\n",
              "      <th></th>\n",
              "      <th></th>\n",
              "      <th></th>\n",
              "      <th></th>\n",
              "      <th></th>\n",
              "      <th></th>\n",
              "      <th></th>\n",
              "      <th></th>\n",
              "      <th></th>\n",
              "      <th></th>\n",
              "      <th></th>\n",
              "      <th></th>\n",
              "      <th></th>\n",
              "      <th></th>\n",
              "      <th></th>\n",
              "      <th></th>\n",
              "      <th></th>\n",
              "      <th></th>\n",
              "      <th></th>\n",
              "    </tr>\n",
              "  </thead>\n",
              "  <tbody>\n",
              "    <tr>\n",
              "      <th>2025-02-07 00:00:00</th>\n",
              "      <td>2</td>\n",
              "      <td>42.066210</td>\n",
              "      <td>50.647892</td>\n",
              "      <td>93.380880</td>\n",
              "      <td>-63.542378</td>\n",
              "      <td>9.975696</td>\n",
              "      <td>3.575776</td>\n",
              "      <td>660.639343</td>\n",
              "      <td>79.45779</td>\n",
              "      <td>1642.94653</td>\n",
              "      <td>...</td>\n",
              "      <td>1</td>\n",
              "      <td>1</td>\n",
              "      <td>92.0</td>\n",
              "      <td>78.0</td>\n",
              "      <td>-4.505993</td>\n",
              "      <td>25.974026</td>\n",
              "      <td>66.0</td>\n",
              "      <td>5.6</td>\n",
              "      <td>3200.0</td>\n",
              "      <td>102.0</td>\n",
              "    </tr>\n",
              "    <tr>\n",
              "      <th>2025-02-07 00:00:30</th>\n",
              "      <td>2</td>\n",
              "      <td>44.448270</td>\n",
              "      <td>64.028080</td>\n",
              "      <td>93.348290</td>\n",
              "      <td>-63.328180</td>\n",
              "      <td>9.964844</td>\n",
              "      <td>3.720656</td>\n",
              "      <td>660.397034</td>\n",
              "      <td>78.02518</td>\n",
              "      <td>1644.18262</td>\n",
              "      <td>...</td>\n",
              "      <td>1</td>\n",
              "      <td>1</td>\n",
              "      <td>92.0</td>\n",
              "      <td>78.0</td>\n",
              "      <td>-4.516964</td>\n",
              "      <td>25.974026</td>\n",
              "      <td>66.0</td>\n",
              "      <td>5.6</td>\n",
              "      <td>3200.0</td>\n",
              "      <td>102.0</td>\n",
              "    </tr>\n",
              "    <tr>\n",
              "      <th>2025-02-07 00:01:00</th>\n",
              "      <td>2</td>\n",
              "      <td>42.447033</td>\n",
              "      <td>55.684673</td>\n",
              "      <td>93.315700</td>\n",
              "      <td>-63.377300</td>\n",
              "      <td>10.269734</td>\n",
              "      <td>3.059598</td>\n",
              "      <td>660.630700</td>\n",
              "      <td>79.52994</td>\n",
              "      <td>1643.56067</td>\n",
              "      <td>...</td>\n",
              "      <td>1</td>\n",
              "      <td>1</td>\n",
              "      <td>92.0</td>\n",
              "      <td>78.0</td>\n",
              "      <td>-4.545940</td>\n",
              "      <td>25.974026</td>\n",
              "      <td>66.0</td>\n",
              "      <td>5.6</td>\n",
              "      <td>3200.0</td>\n",
              "      <td>102.0</td>\n",
              "    </tr>\n",
              "    <tr>\n",
              "      <th>2025-02-07 00:01:30</th>\n",
              "      <td>2</td>\n",
              "      <td>44.345898</td>\n",
              "      <td>55.444237</td>\n",
              "      <td>93.283104</td>\n",
              "      <td>-63.997090</td>\n",
              "      <td>9.524961</td>\n",
              "      <td>2.933050</td>\n",
              "      <td>660.424255</td>\n",
              "      <td>81.19316</td>\n",
              "      <td>1640.86035</td>\n",
              "      <td>...</td>\n",
              "      <td>1</td>\n",
              "      <td>1</td>\n",
              "      <td>92.0</td>\n",
              "      <td>78.0</td>\n",
              "      <td>-4.550999</td>\n",
              "      <td>25.974026</td>\n",
              "      <td>66.0</td>\n",
              "      <td>5.6</td>\n",
              "      <td>3200.0</td>\n",
              "      <td>102.0</td>\n",
              "    </tr>\n",
              "    <tr>\n",
              "      <th>2025-02-07 00:02:00</th>\n",
              "      <td>2</td>\n",
              "      <td>42.915485</td>\n",
              "      <td>50.250110</td>\n",
              "      <td>93.250510</td>\n",
              "      <td>-63.868984</td>\n",
              "      <td>9.679323</td>\n",
              "      <td>3.103921</td>\n",
              "      <td>660.602051</td>\n",
              "      <td>80.34723</td>\n",
              "      <td>1644.90000</td>\n",
              "      <td>...</td>\n",
              "      <td>1</td>\n",
              "      <td>1</td>\n",
              "      <td>92.0</td>\n",
              "      <td>78.0</td>\n",
              "      <td>-4.510601</td>\n",
              "      <td>25.974026</td>\n",
              "      <td>66.0</td>\n",
              "      <td>5.6</td>\n",
              "      <td>3200.0</td>\n",
              "      <td>102.0</td>\n",
              "    </tr>\n",
              "  </tbody>\n",
              "</table>\n",
              "<p>5 rows × 90 columns</p>\n",
              "</div>\n",
              "    <div class=\"colab-df-buttons\">\n",
              "\n",
              "  <div class=\"colab-df-container\">\n",
              "    <button class=\"colab-df-convert\" onclick=\"convertToInteractive('df-49e0bdd2-6e6a-4d86-a9dd-ffdb998530c6')\"\n",
              "            title=\"Convert this dataframe to an interactive table.\"\n",
              "            style=\"display:none;\">\n",
              "\n",
              "  <svg xmlns=\"http://www.w3.org/2000/svg\" height=\"24px\" viewBox=\"0 -960 960 960\">\n",
              "    <path d=\"M120-120v-720h720v720H120Zm60-500h600v-160H180v160Zm220 220h160v-160H400v160Zm0 220h160v-160H400v160ZM180-400h160v-160H180v160Zm440 0h160v-160H620v160ZM180-180h160v-160H180v160Zm440 0h160v-160H620v160Z\"/>\n",
              "  </svg>\n",
              "    </button>\n",
              "\n",
              "  <style>\n",
              "    .colab-df-container {\n",
              "      display:flex;\n",
              "      gap: 12px;\n",
              "    }\n",
              "\n",
              "    .colab-df-convert {\n",
              "      background-color: #E8F0FE;\n",
              "      border: none;\n",
              "      border-radius: 50%;\n",
              "      cursor: pointer;\n",
              "      display: none;\n",
              "      fill: #1967D2;\n",
              "      height: 32px;\n",
              "      padding: 0 0 0 0;\n",
              "      width: 32px;\n",
              "    }\n",
              "\n",
              "    .colab-df-convert:hover {\n",
              "      background-color: #E2EBFA;\n",
              "      box-shadow: 0px 1px 2px rgba(60, 64, 67, 0.3), 0px 1px 3px 1px rgba(60, 64, 67, 0.15);\n",
              "      fill: #174EA6;\n",
              "    }\n",
              "\n",
              "    .colab-df-buttons div {\n",
              "      margin-bottom: 4px;\n",
              "    }\n",
              "\n",
              "    [theme=dark] .colab-df-convert {\n",
              "      background-color: #3B4455;\n",
              "      fill: #D2E3FC;\n",
              "    }\n",
              "\n",
              "    [theme=dark] .colab-df-convert:hover {\n",
              "      background-color: #434B5C;\n",
              "      box-shadow: 0px 1px 3px 1px rgba(0, 0, 0, 0.15);\n",
              "      filter: drop-shadow(0px 1px 2px rgba(0, 0, 0, 0.3));\n",
              "      fill: #FFFFFF;\n",
              "    }\n",
              "  </style>\n",
              "\n",
              "    <script>\n",
              "      const buttonEl =\n",
              "        document.querySelector('#df-49e0bdd2-6e6a-4d86-a9dd-ffdb998530c6 button.colab-df-convert');\n",
              "      buttonEl.style.display =\n",
              "        google.colab.kernel.accessAllowed ? 'block' : 'none';\n",
              "\n",
              "      async function convertToInteractive(key) {\n",
              "        const element = document.querySelector('#df-49e0bdd2-6e6a-4d86-a9dd-ffdb998530c6');\n",
              "        const dataTable =\n",
              "          await google.colab.kernel.invokeFunction('convertToInteractive',\n",
              "                                                    [key], {});\n",
              "        if (!dataTable) return;\n",
              "\n",
              "        const docLinkHtml = 'Like what you see? Visit the ' +\n",
              "          '<a target=\"_blank\" href=https://colab.research.google.com/notebooks/data_table.ipynb>data table notebook</a>'\n",
              "          + ' to learn more about interactive tables.';\n",
              "        element.innerHTML = '';\n",
              "        dataTable['output_type'] = 'display_data';\n",
              "        await google.colab.output.renderOutput(dataTable, element);\n",
              "        const docLink = document.createElement('div');\n",
              "        docLink.innerHTML = docLinkHtml;\n",
              "        element.appendChild(docLink);\n",
              "      }\n",
              "    </script>\n",
              "  </div>\n",
              "\n",
              "\n",
              "    <div id=\"df-5d461959-fff7-4102-9507-6188592d28f1\">\n",
              "      <button class=\"colab-df-quickchart\" onclick=\"quickchart('df-5d461959-fff7-4102-9507-6188592d28f1')\"\n",
              "                title=\"Suggest charts\"\n",
              "                style=\"display:none;\">\n",
              "\n",
              "<svg xmlns=\"http://www.w3.org/2000/svg\" height=\"24px\"viewBox=\"0 0 24 24\"\n",
              "     width=\"24px\">\n",
              "    <g>\n",
              "        <path d=\"M19 3H5c-1.1 0-2 .9-2 2v14c0 1.1.9 2 2 2h14c1.1 0 2-.9 2-2V5c0-1.1-.9-2-2-2zM9 17H7v-7h2v7zm4 0h-2V7h2v10zm4 0h-2v-4h2v4z\"/>\n",
              "    </g>\n",
              "</svg>\n",
              "      </button>\n",
              "\n",
              "<style>\n",
              "  .colab-df-quickchart {\n",
              "      --bg-color: #E8F0FE;\n",
              "      --fill-color: #1967D2;\n",
              "      --hover-bg-color: #E2EBFA;\n",
              "      --hover-fill-color: #174EA6;\n",
              "      --disabled-fill-color: #AAA;\n",
              "      --disabled-bg-color: #DDD;\n",
              "  }\n",
              "\n",
              "  [theme=dark] .colab-df-quickchart {\n",
              "      --bg-color: #3B4455;\n",
              "      --fill-color: #D2E3FC;\n",
              "      --hover-bg-color: #434B5C;\n",
              "      --hover-fill-color: #FFFFFF;\n",
              "      --disabled-bg-color: #3B4455;\n",
              "      --disabled-fill-color: #666;\n",
              "  }\n",
              "\n",
              "  .colab-df-quickchart {\n",
              "    background-color: var(--bg-color);\n",
              "    border: none;\n",
              "    border-radius: 50%;\n",
              "    cursor: pointer;\n",
              "    display: none;\n",
              "    fill: var(--fill-color);\n",
              "    height: 32px;\n",
              "    padding: 0;\n",
              "    width: 32px;\n",
              "  }\n",
              "\n",
              "  .colab-df-quickchart:hover {\n",
              "    background-color: var(--hover-bg-color);\n",
              "    box-shadow: 0 1px 2px rgba(60, 64, 67, 0.3), 0 1px 3px 1px rgba(60, 64, 67, 0.15);\n",
              "    fill: var(--button-hover-fill-color);\n",
              "  }\n",
              "\n",
              "  .colab-df-quickchart-complete:disabled,\n",
              "  .colab-df-quickchart-complete:disabled:hover {\n",
              "    background-color: var(--disabled-bg-color);\n",
              "    fill: var(--disabled-fill-color);\n",
              "    box-shadow: none;\n",
              "  }\n",
              "\n",
              "  .colab-df-spinner {\n",
              "    border: 2px solid var(--fill-color);\n",
              "    border-color: transparent;\n",
              "    border-bottom-color: var(--fill-color);\n",
              "    animation:\n",
              "      spin 1s steps(1) infinite;\n",
              "  }\n",
              "\n",
              "  @keyframes spin {\n",
              "    0% {\n",
              "      border-color: transparent;\n",
              "      border-bottom-color: var(--fill-color);\n",
              "      border-left-color: var(--fill-color);\n",
              "    }\n",
              "    20% {\n",
              "      border-color: transparent;\n",
              "      border-left-color: var(--fill-color);\n",
              "      border-top-color: var(--fill-color);\n",
              "    }\n",
              "    30% {\n",
              "      border-color: transparent;\n",
              "      border-left-color: var(--fill-color);\n",
              "      border-top-color: var(--fill-color);\n",
              "      border-right-color: var(--fill-color);\n",
              "    }\n",
              "    40% {\n",
              "      border-color: transparent;\n",
              "      border-right-color: var(--fill-color);\n",
              "      border-top-color: var(--fill-color);\n",
              "    }\n",
              "    60% {\n",
              "      border-color: transparent;\n",
              "      border-right-color: var(--fill-color);\n",
              "    }\n",
              "    80% {\n",
              "      border-color: transparent;\n",
              "      border-right-color: var(--fill-color);\n",
              "      border-bottom-color: var(--fill-color);\n",
              "    }\n",
              "    90% {\n",
              "      border-color: transparent;\n",
              "      border-bottom-color: var(--fill-color);\n",
              "    }\n",
              "  }\n",
              "</style>\n",
              "\n",
              "      <script>\n",
              "        async function quickchart(key) {\n",
              "          const quickchartButtonEl =\n",
              "            document.querySelector('#' + key + ' button');\n",
              "          quickchartButtonEl.disabled = true;  // To prevent multiple clicks.\n",
              "          quickchartButtonEl.classList.add('colab-df-spinner');\n",
              "          try {\n",
              "            const charts = await google.colab.kernel.invokeFunction(\n",
              "                'suggestCharts', [key], {});\n",
              "          } catch (error) {\n",
              "            console.error('Error during call to suggestCharts:', error);\n",
              "          }\n",
              "          quickchartButtonEl.classList.remove('colab-df-spinner');\n",
              "          quickchartButtonEl.classList.add('colab-df-quickchart-complete');\n",
              "        }\n",
              "        (() => {\n",
              "          let quickchartButtonEl =\n",
              "            document.querySelector('#df-5d461959-fff7-4102-9507-6188592d28f1 button');\n",
              "          quickchartButtonEl.style.display =\n",
              "            google.colab.kernel.accessAllowed ? 'block' : 'none';\n",
              "        })();\n",
              "      </script>\n",
              "    </div>\n",
              "\n",
              "    </div>\n",
              "  </div>\n"
            ],
            "text/plain": [
              "                     CM2_PV_PRODUCT  CM2_PV_BE01_CURRENT  CM2_PV_BE02_POWER  \\\n",
              "Timestamps                                                                    \n",
              "2025-02-07 00:00:00               2            42.066210          50.647892   \n",
              "2025-02-07 00:00:30               2            44.448270          64.028080   \n",
              "2025-02-07 00:01:00               2            42.447033          55.684673   \n",
              "2025-02-07 00:01:30               2            44.345898          55.444237   \n",
              "2025-02-07 00:02:00               2            42.915485          50.250110   \n",
              "\n",
              "                     CM2_PV_BF01_OUT_TEMPERATURE  CM2_PV_BF01_PRESSURE  \\\n",
              "Timestamps                                                               \n",
              "2025-02-07 00:00:00                    93.380880            -63.542378   \n",
              "2025-02-07 00:00:30                    93.348290            -63.328180   \n",
              "2025-02-07 00:01:00                    93.315700            -63.377300   \n",
              "2025-02-07 00:01:30                    93.283104            -63.997090   \n",
              "2025-02-07 00:02:00                    93.250510            -63.868984   \n",
              "\n",
              "                     CM2_PV_BF01_DIF_PRESSURE  CM2_PV_BF01_DIF_PRESSURE1  \\\n",
              "Timestamps                                                                 \n",
              "2025-02-07 00:00:00                  9.975696                   3.575776   \n",
              "2025-02-07 00:00:30                  9.964844                   3.720656   \n",
              "2025-02-07 00:01:00                 10.269734                   3.059598   \n",
              "2025-02-07 00:01:30                  9.524961                   2.933050   \n",
              "2025-02-07 00:02:00                  9.679323                   3.103921   \n",
              "\n",
              "                     CM2_FLOW_RATE_COAL  CM2_PV_CLA01_POWER  \\\n",
              "Timestamps                                                    \n",
              "2025-02-07 00:00:00          660.639343            79.45779   \n",
              "2025-02-07 00:00:30          660.397034            78.02518   \n",
              "2025-02-07 00:01:00          660.630700            79.52994   \n",
              "2025-02-07 00:01:30          660.424255            81.19316   \n",
              "2025-02-07 00:02:00          660.602051            80.34723   \n",
              "\n",
              "                     CM2_PV_CLA01_SPEED  ...  CM2_ST_IA_READY  CM2_ST_IA_USE  \\\n",
              "Timestamps                               ...                                   \n",
              "2025-02-07 00:00:00          1642.94653  ...                1              1   \n",
              "2025-02-07 00:00:30          1644.18262  ...                1              1   \n",
              "2025-02-07 00:01:00          1643.56067  ...                1              1   \n",
              "2025-02-07 00:01:30          1640.86035  ...                1              1   \n",
              "2025-02-07 00:02:00          1644.90000  ...                1              1   \n",
              "\n",
              "                     CM2_IA_CLA01_SP_SPEED  CM2_IA_DA01_SP_POSITION  \\\n",
              "Timestamps                                                            \n",
              "2025-02-07 00:00:00                   92.0                     78.0   \n",
              "2025-02-07 00:00:30                   92.0                     78.0   \n",
              "2025-02-07 00:01:00                   92.0                     78.0   \n",
              "2025-02-07 00:01:30                   92.0                     78.0   \n",
              "2025-02-07 00:02:00                   92.0                     78.0   \n",
              "\n",
              "                     CM2_IA_DA02_SPA_PRESS  CM2_IA_GAS01_SP_FLOW_AID  \\\n",
              "Timestamps                                                             \n",
              "2025-02-07 00:00:00              -4.505993                 25.974026   \n",
              "2025-02-07 00:00:30              -4.516964                 25.974026   \n",
              "2025-02-07 00:01:00              -4.545940                 25.974026   \n",
              "2025-02-07 00:01:30              -4.550999                 25.974026   \n",
              "2025-02-07 00:02:00              -4.510601                 25.974026   \n",
              "\n",
              "                     CM2_IA_RB01_SP_TOTAL_FEED  CM2_IA_VRM01_SP_PRESS_GRIDING  \\\n",
              "Timestamps                                                                      \n",
              "2025-02-07 00:00:00                       66.0                            5.6   \n",
              "2025-02-07 00:00:30                       66.0                            5.6   \n",
              "2025-02-07 00:01:00                       66.0                            5.6   \n",
              "2025-02-07 00:01:30                       66.0                            5.6   \n",
              "2025-02-07 00:02:00                       66.0                            5.6   \n",
              "\n",
              "                     CM2_IA_WI01_SP_WATER_INJECTION  CM2_IA_SC01_SPA_TEMP_OUT  \n",
              "Timestamps                                                                     \n",
              "2025-02-07 00:00:00                          3200.0                     102.0  \n",
              "2025-02-07 00:00:30                          3200.0                     102.0  \n",
              "2025-02-07 00:01:00                          3200.0                     102.0  \n",
              "2025-02-07 00:01:30                          3200.0                     102.0  \n",
              "2025-02-07 00:02:00                          3200.0                     102.0  \n",
              "\n",
              "[5 rows x 90 columns]"
            ]
          },
          "execution_count": 17,
          "metadata": {},
          "output_type": "execute_result"
        }
      ],
      "source": [
        "df.head()"
      ]
    },
    {
      "cell_type": "code",
      "execution_count": 18,
      "metadata": {
        "colab": {
          "base_uri": "https://localhost:8080/"
        },
        "id": "XBiBKs1sBi7A",
        "outputId": "07822f14-6b06-4dd8-99f4-dc561ccea3a1"
      },
      "outputs": [
        {
          "data": {
            "text/plain": [
              "Index(['CM2_PV_PRODUCT', 'CM2_PV_BE01_CURRENT', 'CM2_PV_BE02_POWER',\n",
              "       'CM2_PV_BF01_OUT_TEMPERATURE', 'CM2_PV_BF01_PRESSURE',\n",
              "       'CM2_PV_BF01_DIF_PRESSURE', 'CM2_PV_BF01_DIF_PRESSURE1',\n",
              "       'CM2_FLOW_RATE_COAL', 'CM2_PV_CLA01_POWER', 'CM2_PV_CLA01_SPEED',\n",
              "       'CM2_SP_CLA01_SPEED', 'CM2_PV_DA01_POSITION', 'CM2_SP_DA01_POSITION',\n",
              "       'CM2_PV_DA02_POSITION', 'CM2_SP_PRESS_MODE', 'CM2_SP_PRESS_AUTO',\n",
              "       'CM2_SP_PRESS_MANUAL', 'CM2_PV_FN01_POWER', 'CM2_SP_GA01_SPM',\n",
              "       'CM2_PV_HG01_TEMPERATURE', 'CM2_PV_HG01_TEMPERATURE1',\n",
              "       'CM2_PV_HG01_TEMPERATURE2', 'CM2_PV_HYS01_PRESSURE',\n",
              "       'CM2_PV_HYS01_PRESSURE1', 'CM2_SP_RB01_MILL_TOTAL_FEED',\n",
              "       'CM2_SP_RB01_MODE_TOTAL_FEED', 'CM2_SP_RB01_SPA_TOTAL_FEED',\n",
              "       'CM2_SP_RB01_TOTAL_FEED', 'CM2_PV_RB01_TOTAL_FEED',\n",
              "       'CM2_PV_RF01_CURRENT', 'CM2_SP_VRM01_TEMP_MODE',\n",
              "       'CM2_SP_VRM01_TEMP_AUTO', 'CM2_SP_VRM01_TEMP_MANUAL',\n",
              "       'CM2_SP_VRM01_PRESS_GRIDING_1_3', 'CM2_SP_VRM01_PRESS_GRIDING_2_4',\n",
              "       'CM2_PV_VRM01_INLET_TEMPERATURE', 'CM2_PV_VRM01_OUTLET_TEMPERATURE',\n",
              "       'CM2_PV_VRM01_POWER', 'CM2_PV_VRM01_IN_PRESS', 'CM2_PV_VRM01_VIBRATION',\n",
              "       'CM2_PV_VRM01_OUT_ PRESS', 'CM2_PV_VRM01_DIFF_PRESSURE',\n",
              "       'CM2_PV_VRM01_POSITION1', 'CM2_PV_VRM01_POSITION2',\n",
              "       'CM2_PV_VRM01_POSITION3', 'CM2_PV_VRM01_POSITION4',\n",
              "       'CM2_PV_VRM01_VIBRATION1', 'CM2_SP_WI01_WATER_INJECTION',\n",
              "       'CM2_PV_WI01_WATER_INJECTION', 'CM2_AGREGADO_0', 'CM2_AGREGADO_1',\n",
              "       'CM2_AGREGADO_2', 'CM2_CALCARIO', 'CM2_CLINQUER', 'CM2_CLINQUERBW',\n",
              "       'CM2_ESCORIA', 'CM2_ESCORIA_DRY_PIT', 'CM2_GESSO', 'CM2_MIX',\n",
              "       'CM2_POZOLANA', 'CM2_LB_FINENESS_CPIIF', 'CM2_LB_FINENESS_CPIII',\n",
              "       'CM2_LB_FINENESS_CPVARI', 'CM2_LB_BLAINE_CPIIF', 'CM2_LB_BLAINE_CPIII',\n",
              "       'CM2_LB_BLAINE_CPVARI', 'CM2_ST_CLA01_SPEED', 'CM2_ST_DA01_POSITION',\n",
              "       'CM2_ST_WI01_WATER_INJECTION', 'CM2_ST_VRM01_PRESS_GRIDING_1_3',\n",
              "       'CM2_ST_RB01_TOTAL_FEED', 'CM2_ST_GAS01_ADDITIVE_INJECTION',\n",
              "       'CM2_ST_DA02_SPA_PRESS', 'CM2_PV_FLOW_CALCARIO', 'CM2_PV_FLOW_CLINQUER',\n",
              "       'CM2_PV_FLOW_ESCORIA', 'CM2_PV_FLOW_GESSO', 'CM2_PV_FLOW_MIX',\n",
              "       'CM2_PV_FLOW_POZOLANA', 'CM2_ST_IA_ENABLE', 'CM2_ST_IA_READY',\n",
              "       'CM2_ST_IA_USE', 'CM2_IA_CLA01_SP_SPEED', 'CM2_IA_DA01_SP_POSITION',\n",
              "       'CM2_IA_DA02_SPA_PRESS', 'CM2_IA_GAS01_SP_FLOW_AID',\n",
              "       'CM2_IA_RB01_SP_TOTAL_FEED', 'CM2_IA_VRM01_SP_PRESS_GRIDING',\n",
              "       'CM2_IA_WI01_SP_WATER_INJECTION', 'CM2_IA_SC01_SPA_TEMP_OUT'],\n",
              "      dtype='object')"
            ]
          },
          "execution_count": 18,
          "metadata": {},
          "output_type": "execute_result"
        }
      ],
      "source": [
        "df.columns"
      ]
    },
    {
      "cell_type": "code",
      "execution_count": 19,
      "metadata": {
        "colab": {
          "base_uri": "https://localhost:8080/"
        },
        "id": "PW_v9oQpWLHr",
        "outputId": "837314fc-0667-4af4-858a-6dd08dcb0fdf"
      },
      "outputs": [
        {
          "name": "stdout",
          "output_type": "stream",
          "text": [
            "<class 'pandas.core.frame.DataFrame'>\n",
            "DatetimeIndex: 129600 entries, 2025-02-07 00:00:00 to 2025-03-23 23:59:30\n",
            "Data columns (total 90 columns):\n",
            " #   Column                           Non-Null Count   Dtype  \n",
            "---  ------                           --------------   -----  \n",
            " 0   CM2_PV_PRODUCT                   129600 non-null  int64  \n",
            " 1   CM2_PV_BE01_CURRENT              129600 non-null  float64\n",
            " 2   CM2_PV_BE02_POWER                129600 non-null  float64\n",
            " 3   CM2_PV_BF01_OUT_TEMPERATURE      129600 non-null  float64\n",
            " 4   CM2_PV_BF01_PRESSURE             129600 non-null  float64\n",
            " 5   CM2_PV_BF01_DIF_PRESSURE         129600 non-null  float64\n",
            " 6   CM2_PV_BF01_DIF_PRESSURE1        129600 non-null  float64\n",
            " 7   CM2_FLOW_RATE_COAL               129600 non-null  float64\n",
            " 8   CM2_PV_CLA01_POWER               129600 non-null  float64\n",
            " 9   CM2_PV_CLA01_SPEED               129600 non-null  float64\n",
            " 10  CM2_SP_CLA01_SPEED               129600 non-null  float64\n",
            " 11  CM2_PV_DA01_POSITION             129600 non-null  float64\n",
            " 12  CM2_SP_DA01_POSITION             129600 non-null  float64\n",
            " 13  CM2_PV_DA02_POSITION             129600 non-null  float64\n",
            " 14  CM2_SP_PRESS_MODE                129600 non-null  float64\n",
            " 15  CM2_SP_PRESS_AUTO                129600 non-null  float64\n",
            " 16  CM2_SP_PRESS_MANUAL              129600 non-null  float64\n",
            " 17  CM2_PV_FN01_POWER                129600 non-null  int64  \n",
            " 18  CM2_SP_GA01_SPM                  129600 non-null  float64\n",
            " 19  CM2_PV_HG01_TEMPERATURE          129600 non-null  float64\n",
            " 20  CM2_PV_HG01_TEMPERATURE1         129600 non-null  float64\n",
            " 21  CM2_PV_HG01_TEMPERATURE2         129600 non-null  float64\n",
            " 22  CM2_PV_HYS01_PRESSURE            129600 non-null  float64\n",
            " 23  CM2_PV_HYS01_PRESSURE1           129600 non-null  float64\n",
            " 24  CM2_SP_RB01_MILL_TOTAL_FEED      129600 non-null  float64\n",
            " 25  CM2_SP_RB01_MODE_TOTAL_FEED      129600 non-null  float64\n",
            " 26  CM2_SP_RB01_SPA_TOTAL_FEED       129600 non-null  float64\n",
            " 27  CM2_SP_RB01_TOTAL_FEED           129600 non-null  float64\n",
            " 28  CM2_PV_RB01_TOTAL_FEED           129600 non-null  float64\n",
            " 29  CM2_PV_RF01_CURRENT              129600 non-null  float64\n",
            " 30  CM2_SP_VRM01_TEMP_MODE           129600 non-null  float64\n",
            " 31  CM2_SP_VRM01_TEMP_AUTO           129600 non-null  float64\n",
            " 32  CM2_SP_VRM01_TEMP_MANUAL         129600 non-null  float64\n",
            " 33  CM2_SP_VRM01_PRESS_GRIDING_1_3   129600 non-null  float64\n",
            " 34  CM2_SP_VRM01_PRESS_GRIDING_2_4   129600 non-null  float64\n",
            " 35  CM2_PV_VRM01_INLET_TEMPERATURE   129600 non-null  float64\n",
            " 36  CM2_PV_VRM01_OUTLET_TEMPERATURE  129600 non-null  float64\n",
            " 37  CM2_PV_VRM01_POWER               129600 non-null  int64  \n",
            " 38  CM2_PV_VRM01_IN_PRESS            129600 non-null  float64\n",
            " 39  CM2_PV_VRM01_VIBRATION           129600 non-null  float64\n",
            " 40  CM2_PV_VRM01_OUT_ PRESS          129600 non-null  float64\n",
            " 41  CM2_PV_VRM01_DIFF_PRESSURE       129600 non-null  float64\n",
            " 42  CM2_PV_VRM01_POSITION1           129600 non-null  float64\n",
            " 43  CM2_PV_VRM01_POSITION2           129600 non-null  float64\n",
            " 44  CM2_PV_VRM01_POSITION3           129600 non-null  float64\n",
            " 45  CM2_PV_VRM01_POSITION4           129600 non-null  float64\n",
            " 46  CM2_PV_VRM01_VIBRATION1          129600 non-null  float64\n",
            " 47  CM2_SP_WI01_WATER_INJECTION      129600 non-null  float64\n",
            " 48  CM2_PV_WI01_WATER_INJECTION      129600 non-null  float64\n",
            " 49  CM2_AGREGADO_0                   129600 non-null  float64\n",
            " 50  CM2_AGREGADO_1                   129600 non-null  float64\n",
            " 51  CM2_AGREGADO_2                   129600 non-null  float64\n",
            " 52  CM2_CALCARIO                     129600 non-null  float64\n",
            " 53  CM2_CLINQUER                     129600 non-null  float64\n",
            " 54  CM2_CLINQUERBW                   129600 non-null  float64\n",
            " 55  CM2_ESCORIA                      129600 non-null  float64\n",
            " 56  CM2_ESCORIA_DRY_PIT              129600 non-null  float64\n",
            " 57  CM2_GESSO                        129600 non-null  float64\n",
            " 58  CM2_MIX                          129600 non-null  float64\n",
            " 59  CM2_POZOLANA                     129600 non-null  float64\n",
            " 60  CM2_LB_FINENESS_CPIIF            129600 non-null  float64\n",
            " 61  CM2_LB_FINENESS_CPIII            129600 non-null  float64\n",
            " 62  CM2_LB_FINENESS_CPVARI           129600 non-null  float64\n",
            " 63  CM2_LB_BLAINE_CPIIF              129600 non-null  int64  \n",
            " 64  CM2_LB_BLAINE_CPIII              129600 non-null  float64\n",
            " 65  CM2_LB_BLAINE_CPVARI             129600 non-null  float64\n",
            " 66  CM2_ST_CLA01_SPEED               129600 non-null  int64  \n",
            " 67  CM2_ST_DA01_POSITION             129600 non-null  int64  \n",
            " 68  CM2_ST_WI01_WATER_INJECTION      129600 non-null  int64  \n",
            " 69  CM2_ST_VRM01_PRESS_GRIDING_1_3   129600 non-null  int64  \n",
            " 70  CM2_ST_RB01_TOTAL_FEED           129600 non-null  int64  \n",
            " 71  CM2_ST_GAS01_ADDITIVE_INJECTION  129600 non-null  int64  \n",
            " 72  CM2_ST_DA02_SPA_PRESS            129600 non-null  int64  \n",
            " 73  CM2_PV_FLOW_CALCARIO             129600 non-null  float64\n",
            " 74  CM2_PV_FLOW_CLINQUER             129600 non-null  float64\n",
            " 75  CM2_PV_FLOW_ESCORIA              129600 non-null  float64\n",
            " 76  CM2_PV_FLOW_GESSO                129600 non-null  float64\n",
            " 77  CM2_PV_FLOW_MIX                  129600 non-null  float64\n",
            " 78  CM2_PV_FLOW_POZOLANA             129600 non-null  float64\n",
            " 79  CM2_ST_IA_ENABLE                 129600 non-null  int64  \n",
            " 80  CM2_ST_IA_READY                  129600 non-null  int64  \n",
            " 81  CM2_ST_IA_USE                    129600 non-null  int64  \n",
            " 82  CM2_IA_CLA01_SP_SPEED            129600 non-null  float64\n",
            " 83  CM2_IA_DA01_SP_POSITION          129600 non-null  float64\n",
            " 84  CM2_IA_DA02_SPA_PRESS            129600 non-null  float64\n",
            " 85  CM2_IA_GAS01_SP_FLOW_AID         129600 non-null  float64\n",
            " 86  CM2_IA_RB01_SP_TOTAL_FEED        129600 non-null  float64\n",
            " 87  CM2_IA_VRM01_SP_PRESS_GRIDING    129600 non-null  float64\n",
            " 88  CM2_IA_WI01_SP_WATER_INJECTION   129600 non-null  float64\n",
            " 89  CM2_IA_SC01_SPA_TEMP_OUT         129600 non-null  float64\n",
            "dtypes: float64(76), int64(14)\n",
            "memory usage: 90.0 MB\n"
          ]
        }
      ],
      "source": [
        "df.info()"
      ]
    },
    {
      "cell_type": "markdown",
      "metadata": {
        "id": "E3emSmEtWTyz"
      },
      "source": [
        "Existem algumas variáveis sem dados. Por isso, serão retiradas."
      ]
    },
    {
      "cell_type": "code",
      "execution_count": null,
      "metadata": {
        "id": "sfvlPFwV4ogc"
      },
      "outputs": [],
      "source": [
        "# df.drop(columns=['CD1_PV_FLOW_CLINQUER',\n",
        "#                  'CD1_PV_FLOW_GESSO',\n",
        "#                  'CD1_PV_FLOW_FLYASH',\n",
        "#                  'CD1_PV_FLOW_CALCARIO',\n",
        "#                  'CD1_PV_FLOW_ESCORIA',\n",
        "#                  'CD1_PV_FLOW_BLEND',\n",
        "#                  'CD1_PV_FLOW_POZZOLANA'], axis=1, inplace=True)"
      ]
    },
    {
      "cell_type": "code",
      "execution_count": 20,
      "metadata": {
        "id": "XUmeqglv5JpE"
      },
      "outputs": [],
      "source": [
        "# remover linhas inteiras vazias\n",
        "df = df.dropna(how='all')\n",
        "\n",
        "# preencher vazios com média\n",
        "df = df.apply(lambda x: x.fillna(x.mean()), axis=0)"
      ]
    },
    {
      "cell_type": "code",
      "execution_count": 21,
      "metadata": {
        "colab": {
          "base_uri": "https://localhost:8080/"
        },
        "id": "op6s53kM5SXk",
        "outputId": "0c4d8925-bff8-46bd-cb2c-df833e4b5825"
      },
      "outputs": [
        {
          "data": {
            "text/plain": [
              "(129600, 90)"
            ]
          },
          "execution_count": 21,
          "metadata": {},
          "output_type": "execute_result"
        }
      ],
      "source": [
        "df.shape"
      ]
    },
    {
      "cell_type": "code",
      "execution_count": null,
      "metadata": {
        "id": "Nf5x0MFNVkkF"
      },
      "outputs": [],
      "source": [
        "df.describe()"
      ]
    },
    {
      "cell_type": "code",
      "execution_count": null,
      "metadata": {
        "id": "intQ0sNdg2e0"
      },
      "outputs": [],
      "source": [
        "# histogramas das variáveis\n",
        "\n",
        "hist(df)"
      ]
    },
    {
      "cell_type": "code",
      "execution_count": null,
      "metadata": {
        "id": "KYRp307MZBAs"
      },
      "outputs": [],
      "source": [
        "# series temporais das variáveis\n",
        "\n",
        "time_series(df)"
      ]
    },
    {
      "cell_type": "markdown",
      "metadata": {
        "id": "3yGeqPNqkNbT"
      },
      "source": [
        "Algumas variáveis estão constantes ao longo do tempo. Portanto, serão removidas."
      ]
    },
    {
      "cell_type": "code",
      "execution_count": null,
      "metadata": {
        "id": "Z395WPZOcwuW"
      },
      "outputs": [],
      "source": [
        "scatter_target(df)"
      ]
    },
    {
      "cell_type": "code",
      "execution_count": null,
      "metadata": {
        "id": "oU7dIPr6ic8-"
      },
      "outputs": [],
      "source": [
        "corr_matrix_target(df)"
      ]
    },
    {
      "cell_type": "code",
      "execution_count": null,
      "metadata": {
        "id": "vJQceYMCkzJA"
      },
      "outputs": [],
      "source": [
        "corr_target(df)"
      ]
    },
    {
      "cell_type": "markdown",
      "metadata": {
        "id": "inzGJsos4o6p"
      },
      "source": [
        "# Preparando os dados"
      ]
    },
    {
      "cell_type": "code",
      "execution_count": 22,
      "metadata": {
        "id": "Mbtt6f1kAFrR"
      },
      "outputs": [],
      "source": [
        "df_model = df.copy()"
      ]
    },
    {
      "cell_type": "markdown",
      "metadata": {
        "id": "tiRegJ3w4sb4"
      },
      "source": [
        "### Remover outliers"
      ]
    },
    {
      "cell_type": "code",
      "execution_count": null,
      "metadata": {
        "id": "8W6gXFto4q7r"
      },
      "outputs": [],
      "source": [
        "def remove_outliers_iqr(df):\n",
        "    def iqr_outliers(column):\n",
        "        Q1 = column.quantile(0.25)\n",
        "        Q3 = column.quantile(0.75)\n",
        "        IQR = Q3 - Q1\n",
        "        lower_bound = Q1 - 1.5 * IQR\n",
        "        upper_bound = Q3 + 1.5 * IQR\n",
        "        return (column < lower_bound) | (column > upper_bound)\n",
        "\n",
        "    for column in df.select_dtypes(include=[np.number]).columns:\n",
        "        outliers = iqr_outliers(df[column])\n",
        "        df = df[~outliers]\n",
        "    return df\n",
        "\n",
        "def remove_outliers_zscore(df, threshold=3):\n",
        "    from scipy.stats import zscore\n",
        "    z_scores = np.abs(df.select_dtypes(include=[np.number]).apply(zscore))\n",
        "    return df[(z_scores < threshold).all(axis=1)]"
      ]
    },
    {
      "cell_type": "code",
      "execution_count": null,
      "metadata": {
        "id": "zNR76VnM5Z7w"
      },
      "outputs": [],
      "source": [
        "data_limpo_iqr = remove_outliers_iqr(df_model)\n",
        "data_limpo_zscore = remove_outliers_zscore(df_model)"
      ]
    },
    {
      "cell_type": "markdown",
      "metadata": {
        "id": "CJb15fSeERZx"
      },
      "source": [
        "Comparação entre os métodos de remoção de outliers IQR vs. Z-score"
      ]
    },
    {
      "cell_type": "code",
      "execution_count": null,
      "metadata": {
        "id": "t8ddonoX5gJn"
      },
      "outputs": [],
      "source": [
        "print(\"Original Data Shape:\", df.shape)\n",
        "print(\"IQR Cleaned Data Shape:\", data_limpo_iqr.shape)\n",
        "print(\"Z-Score Cleaned Data Shape:\", data_limpo_zscore.shape)"
      ]
    },
    {
      "cell_type": "code",
      "execution_count": null,
      "metadata": {
        "id": "U4LbYg3p6Sc5"
      },
      "outputs": [],
      "source": [
        "# # Selecionar colunas numéricas para plotar\n",
        "# columns = df_model.select_dtypes(include=[np.number]).columns\n",
        "\n",
        "# # Plotar histogramas\n",
        "# plot_histograms(df_model, data_limpo_iqr, data_limpo_zscore, columns)"
      ]
    },
    {
      "cell_type": "markdown",
      "metadata": {
        "id": "jeGEkQih6pz2"
      },
      "source": [
        "O tratamento de outliers com o método IQR forneceu distribuições mais próximas à normalização. Portanto, ele foi escolhido."
      ]
    },
    {
      "cell_type": "code",
      "execution_count": null,
      "metadata": {
        "id": "ifpviaBb6y77"
      },
      "outputs": [],
      "source": [
        "# df_model = data_limpo_iqr.copy()"
      ]
    },
    {
      "cell_type": "markdown",
      "metadata": {
        "id": "D8HFwCZYIJR9"
      },
      "source": [
        "### Estabelecer limites"
      ]
    },
    {
      "cell_type": "code",
      "execution_count": null,
      "metadata": {
        "id": "OjNycUu1Y_de"
      },
      "outputs": [],
      "source": [
        "# Definindo o número de colunas para os subplots\n",
        "ncols = 3\n",
        "nrows = (len(df_model.columns) // ncols) + int(len(df_model.columns) % ncols != 0)\n",
        "\n",
        "# Criando a figura e os subplots\n",
        "plt.figure(figsize=(15, nrows * 5))\n",
        "\n",
        "# Iterando sobre as colunas para gerar o boxplot de cada uma\n",
        "for i, col in enumerate(df_model.columns):\n",
        "    plt.subplot(nrows, ncols, i + 1)\n",
        "    sns.boxplot(data=df_model, x=col)\n",
        "    plt.title(f'Boxplot de {col}')\n",
        "    plt.xticks(rotation=45)  # Para evitar sobreposição de labels, caso necessário\n",
        "\n",
        "# Ajustando o layout\n",
        "plt.tight_layout()\n",
        "plt.show()"
      ]
    },
    {
      "cell_type": "code",
      "execution_count": null,
      "metadata": {
        "id": "cr_DK7A-Zroh"
      },
      "outputs": [],
      "source": [
        "df_model.columns"
      ]
    },
    {
      "cell_type": "code",
      "execution_count": null,
      "metadata": {
        "id": "4sdG42tvINMu"
      },
      "outputs": [],
      "source": [
        "# #df_model = df_model[(df_model['CD1_PV_VRM01_POWER'] > 600) & (df_model['CD1_PV_VRM01_POWER'] < 1600)]\n",
        "# df_model = df_model[df_model['CD1_PV_VRM01_VIBRATION'] < 2.5]\n",
        "# df_model = df_model[(df_model['CD1_PV_FN01_POWER'] > 300) & (df_model['CD1_PV_FN01_POWER'] < 500)]\n",
        "# df_model = df_model[(df_model['CD1_PV_VRM01_DIF_PRESS'] > 15) & (df_model['CD1_PV_VRM01_DIF_PRESS'] < 30)]\n",
        "# df_model = df_model[(df_model['CD1_PV_VRM01_PRESS_GRIDING'] > 80) & (df_model['CD1_PV_VRM01_PRESS_GRIDING'] < 130)]"
      ]
    },
    {
      "cell_type": "code",
      "execution_count": null,
      "metadata": {
        "id": "pmSNxLzCIk2k"
      },
      "outputs": [],
      "source": [
        "df_model.shape"
      ]
    },
    {
      "cell_type": "markdown",
      "metadata": {
        "id": "ELTnxsbmQjAv"
      },
      "source": [
        "### Feature importance"
      ]
    },
    {
      "cell_type": "code",
      "execution_count": 23,
      "metadata": {
        "id": "VnJueSS7QkHT"
      },
      "outputs": [],
      "source": [
        "from sklearn.model_selection import train_test_split\n",
        "from sklearn.ensemble import RandomForestRegressor\n",
        "\n",
        "# Assume your DataFrame is called df and the target column is 'target'\n",
        "X = df.drop(columns=['CM2_PV_VRM01_VIBRATION','CM2_PV_VRM01_VIBRATION1'])\n",
        "y = df['CM2_PV_VRM01_VIBRATION']\n",
        "\n",
        "# Split for training (optional but good practice)\n",
        "X_train, X_test, y_train, y_test = train_test_split(X, y, test_size=0.2, random_state=42)"
      ]
    },
    {
      "cell_type": "code",
      "execution_count": 24,
      "metadata": {
        "id": "Yp1ARlSARDyW"
      },
      "outputs": [],
      "source": [
        "# Train the model\n",
        "model = RandomForestRegressor(random_state=42)\n",
        "model.fit(X_train, y_train)\n",
        "\n",
        "# Extract importances\n",
        "importances = model.feature_importances_\n",
        "feature_names = X.columns\n",
        "\n",
        "# Create a DataFrame for easier viewing\n",
        "feature_importance_df = pd.DataFrame({\n",
        "    'feature': feature_names,\n",
        "    'importance': importances\n",
        "}).sort_values(by='importance', ascending=False)"
      ]
    },
    {
      "cell_type": "code",
      "execution_count": 25,
      "metadata": {
        "colab": {
          "base_uri": "https://localhost:8080/",
          "height": 564
        },
        "id": "wVkwwQ5GRIZ1",
        "outputId": "6f3e98d8-a58e-481c-8600-9bde7b0f2494"
      },
      "outputs": [
        {
          "data": {
            "image/png": "[encoded data removed]",
            "text/plain": [
              "<Figure size 1000x600 with 1 Axes>"
            ]
          },
          "metadata": {},
          "output_type": "display_data"
        }
      ],
      "source": [
        "plt.figure(figsize=(10, 6))\n",
        "plt.barh(feature_importance_df['feature'], feature_importance_df['importance'])\n",
        "plt.gca().invert_yaxis()\n",
        "plt.title('Feature Importances (Regression)')\n",
        "plt.xlabel('Importance')\n",
        "plt.show()"
      ]
    },
    {
      "cell_type": "code",
      "execution_count": 26,
      "metadata": {
        "id": "P2EHSwkoaaHY"
      },
      "outputs": [],
      "source": [
        "top_k = 10\n",
        "top_features = feature_importance_df.head(top_k)['feature'].tolist()\n",
        "\n",
        "# Add the specific feature manually if not already in the list\n",
        "additional_feature = 'CM2_PV_VRM01_VIBRATION'\n",
        "if additional_feature not in top_features:\n",
        "    top_features.append(additional_feature)\n",
        "\n",
        "df_model = df_model[top_features]"
      ]
    },
    {
      "cell_type": "code",
      "execution_count": 27,
      "metadata": {
        "colab": {
          "base_uri": "https://localhost:8080/"
        },
        "id": "ybgYx5GL4Ajg",
        "outputId": "61a5e93b-de35-4b1e-e7e1-d243b528b1ad"
      },
      "outputs": [
        {
          "data": {
            "text/plain": [
              "['CM2_PV_VRM01_POWER',\n",
              " 'CM2_SP_WI01_WATER_INJECTION',\n",
              " 'CM2_PV_VRM01_POSITION4',\n",
              " 'CM2_PV_VRM01_POSITION1',\n",
              " 'CM2_PV_HYS01_PRESSURE1',\n",
              " 'CM2_PV_FLOW_GESSO',\n",
              " 'CM2_PV_WI01_WATER_INJECTION',\n",
              " 'CM2_LB_FINENESS_CPIII',\n",
              " 'CM2_PV_FLOW_ESCORIA',\n",
              " 'CM2_LB_BLAINE_CPIII',\n",
              " 'CM2_PV_VRM01_VIBRATION']"
            ]
          },
          "execution_count": 27,
          "metadata": {},
          "output_type": "execute_result"
        }
      ],
      "source": [
        "top_features"
      ]
    },
    {
      "cell_type": "markdown",
      "metadata": {
        "id": "DomR0I3svBXE"
      },
      "source": [
        "top_features = ['CD1_SP_VRM01_POWER', 'CD1_PV_WF02_FLOW', 'CD1_PV_VRM01_IN_PRESS', 'CD1_PV_WF07_FLYASH2', 'CD1_PV_VRM01_DIF_PRESS', 'CD1_PV_VRM01_CURRENT', 'CD1_PV_FN01_POWER', 'CD1_PV_VRM01_PRESS_GRIDING', 'CD1_PV_WF03_FLOW', 'CD1_PV_VRM01_INLET_TEMPERATURE']"
      ]
    },
    {
      "cell_type": "code",
      "execution_count": null,
      "metadata": {
        "id": "AsPiwvcmajld"
      },
      "outputs": [],
      "source": [
        "df_model.shape"
      ]
    },
    {
      "cell_type": "markdown",
      "metadata": {
        "id": "BvUjF4JtWjWx"
      },
      "source": [
        "# Modelos"
      ]
    },
    {
      "cell_type": "code",
      "execution_count": null,
      "metadata": {
        "id": "XsLNtUOcKlhg"
      },
      "outputs": [],
      "source": [
        "df_model.columns"
      ]
    },
    {
      "cell_type": "code",
      "execution_count": null,
      "metadata": {
        "id": "nx5WhL1wKrT2"
      },
      "outputs": [],
      "source": [
        "df_model.head(10)"
      ]
    },
    {
      "cell_type": "markdown",
      "metadata": {
        "id": "uoa9Lqh-_a42"
      },
      "source": [
        "## Linear Regression"
      ]
    },
    {
      "cell_type": "code",
      "execution_count": 28,
      "metadata": {
        "id": "RuMCnoCBWj3y"
      },
      "outputs": [],
      "source": [
        "y = df_model['CM2_PV_VRM01_VIBRATION']\n",
        "X = df_model.drop('CM2_PV_VRM01_VIBRATION', axis=1)"
      ]
    },
    {
      "cell_type": "code",
      "execution_count": null,
      "metadata": {
        "colab": {
          "base_uri": "https://localhost:8080/"
        },
        "id": "o1RwtlcIW4oR",
        "outputId": "74b3d410-da9d-45e1-e214-756ceb6f1d54"
      },
      "outputs": [
        {
          "name": "stdout",
          "output_type": "stream",
          "text": [
            "Train shape: (110160, 10), Test shape: (19440, 10)\n"
          ]
        },
        {
          "name": "stderr",
          "output_type": "stream",
          "text": [
            "/usr/local/lib/python3.11/dist-packages/sklearn/linear_model/_coordinate_descent.py:695: ConvergenceWarning:\n",
            "\n",
            "Objective did not converge. You might want to increase the number of iterations, check the scale of the features or consider increasing regularisation. Duality gap: 9.912e+01, tolerance: 3.116e+00\n",
            "\n",
            "/usr/local/lib/python3.11/dist-packages/sklearn/linear_model/_coordinate_descent.py:695: ConvergenceWarning:\n",
            "\n",
            "Objective did not converge. You might want to increase the number of iterations, check the scale of the features or consider increasing regularisation. Duality gap: 1.353e+02, tolerance: 1.453e+01\n",
            "\n",
            "/usr/local/lib/python3.11/dist-packages/sklearn/linear_model/_coordinate_descent.py:695: ConvergenceWarning:\n",
            "\n",
            "Objective did not converge. You might want to increase the number of iterations, check the scale of the features or consider increasing regularisation. Duality gap: 4.575e+02, tolerance: 2.092e+01\n",
            "\n",
            "/usr/local/lib/python3.11/dist-packages/sklearn/linear_model/_coordinate_descent.py:695: ConvergenceWarning:\n",
            "\n",
            "Objective did not converge. You might want to increase the number of iterations, check the scale of the features or consider increasing regularisation. Duality gap: 2.644e+03, tolerance: 3.116e+00\n",
            "\n",
            "/usr/local/lib/python3.11/dist-packages/sklearn/linear_model/_coordinate_descent.py:695: ConvergenceWarning:\n",
            "\n",
            "Objective did not converge. You might want to increase the number of iterations, check the scale of the features or consider increasing regularisation. Duality gap: 1.041e+03, tolerance: 6.573e+00\n",
            "\n",
            "/usr/local/lib/python3.11/dist-packages/sklearn/linear_model/_coordinate_descent.py:695: ConvergenceWarning:\n",
            "\n",
            "Objective did not converge. You might want to increase the number of iterations, check the scale of the features or consider increasing regularisation. Duality gap: 1.142e+03, tolerance: 1.453e+01\n",
            "\n",
            "/usr/local/lib/python3.11/dist-packages/sklearn/linear_model/_coordinate_descent.py:695: ConvergenceWarning:\n",
            "\n",
            "Objective did not converge. You might want to increase the number of iterations, check the scale of the features or consider increasing regularisation. Duality gap: 1.987e+03, tolerance: 2.092e+01\n",
            "\n",
            "/usr/local/lib/python3.11/dist-packages/sklearn/linear_model/_coordinate_descent.py:695: ConvergenceWarning:\n",
            "\n",
            "Objective did not converge. You might want to increase the number of iterations, check the scale of the features or consider increasing regularisation. Duality gap: 8.759e+02, tolerance: 4.480e+01\n",
            "\n",
            "/usr/local/lib/python3.11/dist-packages/sklearn/linear_model/_coordinate_descent.py:695: ConvergenceWarning:\n",
            "\n",
            "Objective did not converge. You might want to increase the number of iterations, check the scale of the features or consider increasing regularisation. Duality gap: 4.877e+03, tolerance: 3.116e+00\n",
            "\n",
            "/usr/local/lib/python3.11/dist-packages/sklearn/linear_model/_coordinate_descent.py:695: ConvergenceWarning:\n",
            "\n",
            "Objective did not converge. You might want to increase the number of iterations, check the scale of the features or consider increasing regularisation. Duality gap: 6.519e+03, tolerance: 6.573e+00\n",
            "\n",
            "/usr/local/lib/python3.11/dist-packages/sklearn/linear_model/_coordinate_descent.py:695: ConvergenceWarning:\n",
            "\n",
            "Objective did not converge. You might want to increase the number of iterations, check the scale of the features or consider increasing regularisation. Duality gap: 4.492e+03, tolerance: 1.453e+01\n",
            "\n",
            "/usr/local/lib/python3.11/dist-packages/sklearn/linear_model/_coordinate_descent.py:695: ConvergenceWarning:\n",
            "\n",
            "Objective did not converge. You might want to increase the number of iterations, check the scale of the features or consider increasing regularisation. Duality gap: 1.627e+04, tolerance: 2.092e+01\n",
            "\n",
            "/usr/local/lib/python3.11/dist-packages/sklearn/linear_model/_coordinate_descent.py:695: ConvergenceWarning:\n",
            "\n",
            "Objective did not converge. You might want to increase the number of iterations, check the scale of the features or consider increasing regularisation. Duality gap: 7.887e+03, tolerance: 4.480e+01\n",
            "\n",
            "/usr/local/lib/python3.11/dist-packages/sklearn/linear_model/_coordinate_descent.py:695: ConvergenceWarning:\n",
            "\n",
            "Objective did not converge. You might want to increase the number of iterations, check the scale of the features or consider increasing regularisation. Duality gap: 5.551e+03, tolerance: 3.116e+00\n",
            "\n",
            "/usr/local/lib/python3.11/dist-packages/sklearn/linear_model/_coordinate_descent.py:695: ConvergenceWarning:\n",
            "\n",
            "Objective did not converge. You might want to increase the number of iterations, check the scale of the features or consider increasing regularisation. Duality gap: 1.025e+04, tolerance: 6.573e+00\n",
            "\n"
          ]
        }
      ],
      "source": [
        "# Divisão treino/teste\n",
        "X_train, X_test, y_train, y_test = train_test_split(X, y, train_size=0.85, shuffle=False)\n",
        "print(f\"Train shape: {X_train.shape}, Test shape: {X_test.shape}\")\n",
        "\n",
        "# Pipeline com ElasticNet e transformação polinomial\n",
        "pipeline = make_pipeline(StandardScaler(), PolynomialFeatures(), ElasticNet())\n",
        "\n",
        "# Hiperparâmetros para busca em grade\n",
        "param_grid = {\n",
        "    'polynomialfeatures__degree': [3, 4, 5, 6],\n",
        "    'elasticnet__alpha': [0.1, 1.0, 10.0],\n",
        "    'elasticnet__l1_ratio': [0.5, 0.9]  # Combinação Lasso e Ridge\n",
        "}\n",
        "\n",
        "# Validação cruzada com TimeSeriesSplit\n",
        "tscv = TimeSeriesSplit(n_splits=5)\n",
        "grid_search = GridSearchCV(pipeline, param_grid, cv=tscv, scoring='neg_mean_squared_error', n_jobs=1)\n",
        "\n",
        "# Ajuste do modelo\n",
        "grid_search.fit(X_train, y_train)\n",
        "\n",
        "# Melhor modelo encontrado\n",
        "best_model = grid_search.best_estimator_\n",
        "print(f\"Melhores hiperparâmetros: {grid_search.best_params_}\")\n",
        "\n",
        "# Avaliação no conjunto de teste\n",
        "y_pred = best_model.predict(X_test)\n",
        "mse = mean_squared_error(y_test, y_pred)\n",
        "rmse = np.sqrt(mse)\n",
        "mae = mean_absolute_error(y_test, y_pred)\n",
        "mape = mean_absolute_percentage_error(y_test, y_pred)\n",
        "\n",
        "print(f'Mean Squared Error (MSE): {mse:.2f}')\n",
        "print(f'Root Mean Squared Error (RMSE): {rmse:.2f}')\n",
        "print(f'Mean Absolute Error (MAE): {mae:.2f}')\n",
        "print(f'Mean Absolute Percentage Error (MAPE): {mape:.2f}')\n",
        "\n",
        "# Validando o modelo com cross-validation\n",
        "cv_scores = cross_val_score(best_model, X_train, y_train, cv=5, scoring='neg_mean_squared_error')\n",
        "print(f\"Cross-Validation MSE: {-np.mean(cv_scores)}\")"
      ]
    },
    {
      "cell_type": "code",
      "execution_count": null,
      "metadata": {
        "id": "XhFnzp4XaiQ-"
      },
      "outputs": [],
      "source": [
        "\n",
        "# Criando o gráfico com o eixo X como os timestamps do DataFrame\n",
        "plt.figure(figsize=(12, 6))\n",
        "\n",
        "# Plotando os valores reais do treino (usando df.index para o eixo X)\n",
        "plt.plot(df_model.index[:len(y_train)], y_train, label=\"Valores Reais (Treino)\", color=\"blue\", linewidth=2, alpha=0.7)\n",
        "\n",
        "# Plotando os valores reais do teste (usando df.index)\n",
        "plt.plot(df_model.index[len(y_train):len(y_train) + len(y_test)], y_test, label=\"Valores Reais (Teste)\", color=\"green\", linewidth=2, alpha=0.7)\n",
        "\n",
        "# Plotando as previsões no teste (também com df.index), colocando à frente\n",
        "plt.plot(df_model.index[len(y_train):len(y_train) + len(y_pred)], y_pred, label=\"Valores Preditos (Teste)\", color=\"red\", linestyle=\"--\", linewidth=2, alpha=0.8)\n",
        "\n",
        "# Linha de divisão entre treino e teste\n",
        "plt.axvline(x=df_model.index[len(y_train)], color=\"black\", linestyle=\"--\", label=\"Divisão Treino/Teste\")\n",
        "\n",
        "# Configurando os rótulos e título\n",
        "plt.xlabel(\"Tempo\")\n",
        "plt.ylabel(\"Valores\")\n",
        "plt.title(\"Valores Reais e Preditos (Treino + Teste)\")\n",
        "plt.legend()\n",
        "plt.grid()\n",
        "plt.xticks(rotation=45)  # Girando os rótulos de data no eixo X para facilitar a leitura\n",
        "plt.tight_layout()\n",
        "\n",
        "# Exibindo o gráfico\n",
        "plt.show()\n"
      ]
    },
    {
      "cell_type": "code",
      "execution_count": null,
      "metadata": {
        "id": "qIfLsC7W-_x4"
      },
      "outputs": [],
      "source": [
        "y_test_subset = y_test\n",
        "y_pred_subset = y_pred"
      ]
    },
    {
      "cell_type": "code",
      "execution_count": null,
      "metadata": {
        "id": "9Ux8-MX5_BWo"
      },
      "outputs": [],
      "source": [
        "plt.figure(figsize=(10, 6))\n",
        "plt.plot(y_test_subset.values, label='Observed')\n",
        "plt.plot(y_pred_subset, label='Predicted')\n",
        "plt.xlabel('Time')\n",
        "plt.ylabel('Value')\n",
        "plt.title('Observed vs Predicted Values')\n",
        "plt.legend()\n",
        "plt.show()"
      ]
    },
    {
      "cell_type": "code",
      "execution_count": null,
      "metadata": {
        "id": "vmBGv8hQ88wg"
      },
      "outputs": [],
      "source": [
        "resultados_lr = pd.DataFrame({\n",
        "    'real': y_test,\n",
        "    'predicted': y_pred\n",
        "})"
      ]
    },
    {
      "cell_type": "code",
      "execution_count": null,
      "metadata": {
        "id": "QNHV46apbWP5"
      },
      "outputs": [],
      "source": [
        "resultados_lr = resultados_lr.sort_index()\n",
        "\n",
        "# Plotar o gráfico de linhas\n",
        "plt.figure(figsize=(20, 10))\n",
        "plt.plot(resultados_lr.index, resultados_lr['real'], label='Real', color='blue', linewidth=2)\n",
        "plt.plot(resultados_lr.index, resultados_lr['predicted'], label='Predicted', color='orange', linewidth=2)\n",
        "plt.xlabel('Timestamp')\n",
        "plt.ylabel('Vibration')\n",
        "plt.title('Timeseries Real vs Predicted - Linear Regression Model')\n",
        "plt.legend()\n",
        "plt.grid(True)\n",
        "plt.show()"
      ]
    },
    {
      "cell_type": "code",
      "execution_count": null,
      "metadata": {
        "id": "hcjegGZ3n3_7"
      },
      "outputs": [],
      "source": [
        "# Dividir o DataFrame em pedaços de n observações\n",
        "n = 5000\n",
        "chunks = [resultados_lr.iloc[i:i + n] for i in range(0, len(resultados_lr), n)]\n",
        "\n",
        "# Definir o tamanho da figura e o número de colunas\n",
        "fig, axs = plt.subplots(len(chunks) // 3 + 1, 3, figsize=(20, 15))\n",
        "axs = axs.flatten()\n",
        "\n",
        "# Plotar gráficos separados para cada pedaço\n",
        "for i, chunk in enumerate(chunks):\n",
        "    axs[i].plot(chunk.index, chunk['real'], label='Real', color='blue', linewidth=2)\n",
        "    axs[i].plot(chunk.index, chunk['predicted'], label='Predicted', color='orange', linewidth=2)\n",
        "    axs[i].set_xlabel('Timestamp')\n",
        "    axs[i].set_ylabel('Vibration')\n",
        "    axs[i].set_title(f'Timeseries Real vs Predicted - Segment {i+1}')\n",
        "    axs[i].legend()\n",
        "    axs[i].grid(True)\n",
        "\n",
        "# Remover eixos dos gráficos vazios, se houver\n",
        "for j in range(i + 1, len(axs)):\n",
        "    fig.delaxes(axs[j])\n",
        "\n",
        "plt.tight_layout()\n",
        "plt.show()"
      ]
    },
    {
      "cell_type": "code",
      "execution_count": null,
      "metadata": {
        "id": "u43qibrK8Mmy"
      },
      "outputs": [],
      "source": [
        "# Gráfico de Dispersão\n",
        "plt.figure(figsize=(10, 6))\n",
        "plt.scatter(y_test, y_pred, alpha=0.5)\n",
        "plt.xlabel('Valores Reais')\n",
        "plt.ylabel('Valores Preditos')\n",
        "plt.title('Valores Reais vs. Valores Preditos')\n",
        "plt.show()\n",
        "\n",
        "# Gráfico de Resíduos\n",
        "residuos = y_test - y_pred\n",
        "plt.figure(figsize=(10, 6))\n",
        "plt.scatter(y_pred, residuos, alpha=0.5)\n",
        "plt.axhline(y=0, color='r', linestyle='--')\n",
        "plt.xlabel('Valores Preditos')\n",
        "plt.ylabel('Resíduos')\n",
        "plt.title('Gráfico de Resíduos')\n",
        "plt.show()\n"
      ]
    },
    {
      "cell_type": "markdown",
      "metadata": {
        "id": "xpsL2mmw_eJb"
      },
      "source": [
        "## Random Forest"
      ]
    },
    {
      "cell_type": "code",
      "execution_count": null,
      "metadata": {
        "id": "AMYcWTr0_kaF"
      },
      "outputs": [],
      "source": [
        "from sklearn.ensemble import RandomForestRegressor\n",
        "from sklearn.model_selection import train_test_split\n",
        "from sklearn.metrics import mean_squared_error, mean_absolute_error, mean_absolute_percentage_error\n",
        "\n",
        "# Dividir os dados em conjunto de treino e teste\n",
        "X_train, X_test, y_train, y_test = train_test_split(X, y, train_size=0.7, shuffle=False)\n",
        "\n",
        "# Definir param_grid para busca em grade\n",
        "# param_grid = {\n",
        "#     'n_estimators': [50, 100, 200],\n",
        "#     'max_features': ['auto', 'sqrt', 'log2'],\n",
        "#     'max_depth': [10, 20, 30, None],\n",
        "#     'min_samples_split': [2, 5, 10],\n",
        "#     'min_samples_leaf': [1, 2, 4],\n",
        "#     'bootstrap': [True, False]\n",
        "# }\n",
        "\n",
        "param_grid = {\n",
        "    'n_estimators': [50, 100],\n",
        "    'max_features': ['auto', 'sqrt'],\n",
        "    'max_depth': [10, None],\n",
        "    'min_samples_split': [2, 5],\n",
        "    'min_samples_leaf': [1, 2],\n",
        "    'bootstrap': [True]\n",
        "}\n",
        "\n",
        "# Criar e ajustar o modelo usando GridSearchCV\n",
        "model = RandomForestRegressor(random_state=42)\n",
        "grid_search = GridSearchCV(estimator=model, param_grid=param_grid, cv=3, scoring='neg_mean_squared_error', n_jobs=-1)\n",
        "\n",
        "grid_search.fit(X_train, y_train)\n",
        "\n",
        "# Melhor modelo após busca em grade\n",
        "best_model = grid_search.best_estimator_\n",
        "\n",
        "# Avaliando o modelo no conjunto de teste\n",
        "y_pred = best_model.predict(X_test)\n",
        "\n",
        "mse = mean_squared_error(y_test, y_pred)\n",
        "rmse = np.sqrt(mse)\n",
        "mae = mean_absolute_error(y_test, y_pred)\n",
        "mape = mean_absolute_percentage_error(y_test, y_pred)\n",
        "\n",
        "print(f\"Melhores hiperparâmetros: {grid_search.best_params_}\")\n",
        "print(f'Mean Squared Error (MSE): {mse:.2f}')\n",
        "print(f'Root Mean Squared Error (RMSE): {rmse:.2f}')\n",
        "print(f'Mean Absolute Error (MAE): {mae:.2f}')\n",
        "print(f'Mean Absolute Percentage Error (MAPE): {mape:.2f}')\n",
        "\n",
        "# Validando o modelo com cross-validation\n",
        "cv_scores = cross_val_score(best_model, X_train, y_train, cv=3, scoring='neg_mean_squared_error', n_jobs=-1)\n",
        "print(f\"Cross-Validation MSE: {-np.mean(cv_scores)}\")"
      ]
    },
    {
      "cell_type": "code",
      "execution_count": null,
      "metadata": {
        "id": "k9scHsecddSO"
      },
      "outputs": [],
      "source": [
        "# Criando o gráfico com o eixo X como os timestamps do DataFrame\n",
        "plt.figure(figsize=(12, 6))\n",
        "\n",
        "# Plotando os valores reais do treino (usando df.index para o eixo X)\n",
        "plt.plot(df_model.index[:len(y_train)], y_train, label=\"Valores Reais (Treino)\", color=\"blue\", linewidth=2, alpha=0.7)\n",
        "\n",
        "# Plotando os valores reais do teste (usando df.index)\n",
        "plt.plot(df_model.index[len(y_train):len(y_train) + len(y_test)], y_test, label=\"Valores Reais (Teste)\", color=\"green\", linewidth=2, alpha=0.7)\n",
        "\n",
        "# Plotando as previsões no teste (também com df.index), colocando à frente\n",
        "plt.plot(df_model.index[len(y_train):len(y_train) + len(y_pred)], y_pred, label=\"Valores Preditos (Teste)\", color=\"red\", linestyle=\"--\", linewidth=2, alpha=0.8)\n",
        "\n",
        "# Linha de divisão entre treino e teste\n",
        "plt.axvline(x=df_model.index[len(y_train)], color=\"black\", linestyle=\"--\", label=\"Divisão Treino/Teste\")\n",
        "\n",
        "# Configurando os rótulos e título\n",
        "plt.xlabel(\"Tempo\")\n",
        "plt.ylabel(\"Valores\")\n",
        "plt.title(\"Valores Reais e Preditos (Treino + Teste)\")\n",
        "plt.legend()\n",
        "plt.grid()\n",
        "plt.xticks(rotation=45)  # Girando os rótulos de data no eixo X para facilitar a leitura\n",
        "plt.tight_layout()\n",
        "\n",
        "# Exibindo o gráfico\n",
        "plt.show()\n"
      ]
    },
    {
      "cell_type": "code",
      "execution_count": null,
      "metadata": {
        "id": "COTIuPU9a3_t"
      },
      "outputs": [],
      "source": [
        "resultados_rf = pd.DataFrame({\n",
        "    'real': y_test,\n",
        "    'predicted': y_pred\n",
        "})"
      ]
    },
    {
      "cell_type": "code",
      "execution_count": null,
      "metadata": {
        "id": "jXi1Deg6biL9"
      },
      "outputs": [],
      "source": [
        "resultados_rf = resultados_lr.sort_index()\n",
        "\n",
        "# Plotar o gráfico de linhas\n",
        "plt.figure(figsize=(20, 10))\n",
        "plt.plot(resultados_lr.index, resultados_lr['real'], label='Real', color='blue', linewidth=2)\n",
        "plt.plot(resultados_lr.index, resultados_lr['predicted'], label='Predicted', color='orange', linewidth=2)\n",
        "plt.xlabel('Timestamp')\n",
        "plt.ylabel('Vibration')\n",
        "plt.title('Timeseries Real vs Predicted - Random Forest Model')\n",
        "plt.legend()\n",
        "plt.grid(True)\n",
        "plt.show()"
      ]
    },
    {
      "cell_type": "code",
      "execution_count": null,
      "metadata": {
        "id": "97_jIdGDoWxB"
      },
      "outputs": [],
      "source": [
        "# Dividir o DataFrame em pedaços de n observações\n",
        "n = 5000\n",
        "chunks = [resultados_rf.iloc[i:i + n] for i in range(0, len(resultados_rf), n)]\n",
        "\n",
        "# Definir o tamanho da figura e o número de colunas\n",
        "fig, axs = plt.subplots(len(chunks) // 3 + 1, 3, figsize=(20, 15))\n",
        "axs = axs.flatten()\n",
        "\n",
        "# Plotar gráficos separados para cada pedaço\n",
        "for i, chunk in enumerate(chunks):\n",
        "    axs[i].plot(chunk.index, chunk['real'], label='Real', color='blue', linewidth=2)\n",
        "    axs[i].plot(chunk.index, chunk['predicted'], label='Predicted', color='orange', linewidth=2)\n",
        "    axs[i].set_xlabel('Timestamp')\n",
        "    axs[i].set_ylabel('Vibration')\n",
        "    axs[i].set_title(f'Timeseries Real vs Predicted - Segment {i+1}')\n",
        "    axs[i].legend()\n",
        "    axs[i].grid(True)\n",
        "\n",
        "# Remover eixos dos gráficos vazios, se houver\n",
        "for j in range(i + 1, len(axs)):\n",
        "    fig.delaxes(axs[j])\n",
        "\n",
        "plt.tight_layout()\n",
        "plt.show()"
      ]
    },
    {
      "cell_type": "code",
      "execution_count": null,
      "metadata": {
        "id": "AkOoHP6M_whR"
      },
      "outputs": [],
      "source": [
        "y_test_subset = y_test[:3000]\n",
        "y_pred_subset = y_pred[:3000]"
      ]
    },
    {
      "cell_type": "code",
      "execution_count": null,
      "metadata": {
        "id": "B1lp4QFg_0a5"
      },
      "outputs": [],
      "source": [
        "plt.figure(figsize=(10, 6))\n",
        "plt.plot(y_test_subset.values, label='Observed')\n",
        "plt.plot(y_pred_subset, label='Predicted')\n",
        "plt.xlabel('Time')\n",
        "plt.ylabel('Value')\n",
        "plt.title('Observed vs Predicted Values')\n",
        "plt.legend()\n",
        "plt.show()"
      ]
    },
    {
      "cell_type": "code",
      "execution_count": null,
      "metadata": {
        "id": "u3wl4TYpUB0A"
      },
      "outputs": [],
      "source": [
        "# Gráfico de Dispersão\n",
        "plt.figure(figsize=(10, 6))\n",
        "plt.scatter(y_test, y_pred, alpha=0.5)\n",
        "plt.xlabel('Valores Reais')\n",
        "plt.ylabel('Valores Preditos')\n",
        "plt.title('Valores Reais vs. Valores Preditos')\n",
        "plt.show()\n",
        "\n",
        "# Gráfico de Resíduos\n",
        "residuos = y_test - y_pred\n",
        "plt.figure(figsize=(10, 6))\n",
        "plt.scatter(y_pred, residuos, alpha=0.5)\n",
        "plt.axhline(y=0, color='r', linestyle='--')\n",
        "plt.xlabel('Valores Preditos')\n",
        "plt.ylabel('Resíduos')\n",
        "plt.title('Gráfico de Resíduos')\n",
        "plt.show()\n"
      ]
    },
    {
      "cell_type": "markdown",
      "metadata": {
        "id": "oJJKsHMFy8ll"
      },
      "source": [
        "## Long Short-Term Memory (LSTM)"
      ]
    },
    {
      "cell_type": "code",
      "execution_count": null,
      "metadata": {
        "id": "gWVJmkpezAvf"
      },
      "outputs": [],
      "source": [
        "import numpy as np\n",
        "import tensorflow as tf\n",
        "from tensorflow.keras.models import Sequential\n",
        "from tensorflow.keras.layers import LSTM, Dense, Dropout\n",
        "from sklearn.preprocessing import MinMaxScaler\n",
        "from sklearn.metrics import mean_squared_error, mean_absolute_error, mean_absolute_percentage_error\n",
        "from sklearn.model_selection import train_test_split\n",
        "\n",
        "\n",
        "# Se 'y' for uma Series, converta para NumPy antes de redimensionar\n",
        "y_array = y.values if isinstance(y, pd.Series) else y  # Convertendo Series para array\n",
        "y_array = y_array.reshape(-1, 1)  # Redimensionar para 2D\n",
        "\n",
        "# Normalização com escaladores separados para X e y\n",
        "scaler_X = MinMaxScaler()\n",
        "scaler_y = MinMaxScaler()\n",
        "\n",
        "X_scaled = scaler_X.fit_transform(X)\n",
        "y_scaled = scaler_y.fit_transform(y_array)\n",
        "\n",
        "# Divisão do conjunto de dados\n",
        "X_train, X_test, y_train, y_test = train_test_split(X_scaled, y_scaled, train_size=0.7, shuffle=False)\n",
        "\n",
        "# Transformar X para formato 3D\n",
        "X_train = X_train.reshape((X_train.shape[0], X_train.shape[1], 1))\n",
        "X_test = X_test.reshape((X_test.shape[0], X_test.shape[1], 1))\n",
        "\n",
        "# Construção do modelo\n",
        "model = Sequential([\n",
        "    LSTM(50, activation='relu', input_shape=(X_train.shape[1], 1), return_sequences=True),\n",
        "    Dropout(0.2),\n",
        "    LSTM(50, activation='relu'),\n",
        "    Dropout(0.2),\n",
        "    Dense(1)\n",
        "])\n",
        "\n",
        "# Compilação e treinamento\n",
        "model.compile(optimizer='adam', loss='mean_squared_error')\n",
        "history = model.fit(X_train, y_train, epochs=50, batch_size=32, validation_data=(X_test, y_test), verbose=1)\n",
        "\n",
        "# Previsão e reescalonamento\n",
        "y_pred = model.predict(X_test)\n",
        "y_test = scaler_y.inverse_transform(y_test)\n",
        "y_pred = scaler_y.inverse_transform(y_pred)\n",
        "\n",
        "# Avaliação do modelo\n",
        "mse = mean_squared_error(y_test, y_pred)\n",
        "rmse = np.sqrt(mse)\n",
        "mae = mean_absolute_error(y_test, y_pred)\n",
        "mape = mean_absolute_percentage_error(y_test, y_pred)\n",
        "\n",
        "print(f'MSE: {mse:.2f}')\n",
        "print(f'RMSE: {rmse:.2f}')\n",
        "print(f'MAE: {mae:.2f}')\n",
        "print(f'MAPE: {mape:.2f}')\n"
      ]
    },
    {
      "cell_type": "code",
      "execution_count": null,
      "metadata": {
        "id": "QGzpWHQqCLFD"
      },
      "outputs": [],
      "source": [
        "plt.figure(figsize=(10, 6))\n",
        "plt.plot(y_test, label='Observed')\n",
        "plt.plot(y_pred, label='Predicted')\n",
        "plt.xlabel('Time')\n",
        "plt.ylabel('Value')\n",
        "plt.title('Observed vs Predicted Values')\n",
        "plt.legend()\n",
        "plt.show()"
      ]
    },
    {
      "cell_type": "code",
      "execution_count": null,
      "metadata": {
        "id": "zneaahycMXoj"
      },
      "outputs": [],
      "source": [
        "resultados_lstm = pd.DataFrame({\n",
        "    'real': y_test.flatten(),\n",
        "    'predicted': y_pred.flatten()\n",
        "})"
      ]
    },
    {
      "cell_type": "code",
      "execution_count": null,
      "metadata": {
        "id": "sIWSIGMBMcMM"
      },
      "outputs": [],
      "source": [
        "# Gráfico de Dispersão\n",
        "plt.figure(figsize=(10, 6))\n",
        "plt.scatter(y_test, y_pred, alpha=0.5)\n",
        "plt.xlabel('Valores Reais')\n",
        "plt.ylabel('Valores Preditos')\n",
        "plt.title('Valores Reais vs. Valores Preditos')\n",
        "plt.show()\n",
        "\n",
        "# Gráfico de Resíduos\n",
        "residuos = y_test - y_pred\n",
        "plt.figure(figsize=(10, 6))\n",
        "plt.scatter(y_pred, residuos, alpha=0.5)\n",
        "plt.axhline(y=0, color='r', linestyle='--')\n",
        "plt.xlabel('Valores Preditos')\n",
        "plt.ylabel('Resíduos')\n",
        "plt.title('Gráfico de Resíduos')\n",
        "plt.show()\n"
      ]
    }
  ],
  "metadata": {
    "colab": {
      "collapsed_sections": [
        "UU_J0YO3ZYJb",
        "p92dOzCLYc7v",
        "tiRegJ3w4sb4",
        "uoa9Lqh-_a42",
        "xpsL2mmw_eJb",
        "oJJKsHMFy8ll"
      ],
      "provenance": []
    },
    "kernelspec": {
      "display_name": "base",
      "language": "python",
      "name": "python3"
    },
    "language_info": {
      "codemirror_mode": {
        "name": "ipython",
        "version": 3
      },
      "file_extension": ".py",
      "mimetype": "text/x-python",
      "name": "python",
      "nbconvert_exporter": "python",
      "pygments_lexer": "ipython3",
      "version": "3.11.4"
    }
  },
  "nbformat": 4,
  "nbformat_minor": 0
}
